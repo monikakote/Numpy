{
  "nbformat": 4,
  "nbformat_minor": 0,
  "metadata": {
    "colab": {
      "provenance": [],
      "authorship_tag": "ABX9TyNVqav60nUHlRatJfbEEXGe",
      "include_colab_link": true
    },
    "kernelspec": {
      "name": "python3",
      "display_name": "Python 3"
    },
    "language_info": {
      "name": "python"
    }
  },
  "cells": [
    {
      "cell_type": "markdown",
      "metadata": {
        "id": "view-in-github",
        "colab_type": "text"
      },
      "source": [
        "<a href=\"https://colab.research.google.com/github/monikakote/Numpy/blob/main/Datatype_in_Numpyarray.ipynb\" target=\"_parent\"><img src=\"https://colab.research.google.com/assets/colab-badge.svg\" alt=\"Open In Colab\"/></a>"
      ]
    },
    {
      "cell_type": "markdown",
      "source": [
        "# Data Types in NumPy Arrays\n",
        "\n",
        "bool_ : Boolean (True or False) stored as a byte\n",
        "\n",
        "int_ : Default integer type(same as C long; normally either int64 or int32)\n",
        "\n",
        "intc : indentical to c int(normally int32 or int64)\n",
        "\n",
        "intp : integer used for indexing(same as C ssize_t; normally either int32 or int64)\n",
        "\n",
        "int8 : Byte(-128 to 127)\n",
        "\n",
        "int16 :integer(-32768 to 32767)\n",
        "\n",
        "int32 : integer(-2147483648 to 2147483647)\n",
        "\n",
        "int64 : integer(-9223372036854775808 to 9223372036854775807)\n",
        "\n",
        "uint8 : unsigned integer (0 to 255)\n",
        "\n",
        "uint16 : unsigned integer (0 to 65535)\n",
        "\n",
        "uint32 : unsigned integer (0 to 4294967295)\n",
        "\n",
        "uint64 : unsigned integer(0 to 18446744073709551615)\n",
        "\n",
        "float_ : shorthand for float64\n",
        "\n",
        "float16 : half percision float: sign bit , 5 bits exponent , 10 bits mantissa\n",
        "\n",
        "float32 : single percision float:sign bit , 8 bits exponent , 23 bits for mantissa\n",
        "\n",
        "float64 : Double precision float : sign bit, 11 bits exponent , 52 bits for the mantissa\n",
        "\n",
        "complex_ : shorthand for complex128\n",
        "\n",
        "complex64 : complex number, represented by two 32-bit floats( real and imaginary components)\n",
        "\n",
        "complex128 : complex number, represented by two 64-bit floats (real and imaginary components)\n"
      ],
      "metadata": {
        "id": "3gaC75yOCUpC"
      }
    },
    {
      "cell_type": "markdown",
      "source": [
        "# Data Type"
      ],
      "metadata": {
        "id": "Aw8iqOqACkgn"
      }
    },
    {
      "cell_type": "code",
      "source": [
        "import numpy as np\n",
        "\n",
        "# Array with whole numbers (integers)\n",
        "heights = np.array([150, 160, 170, 180])\n",
        "print(\"Heights:\", heights)\n",
        "print(\"Data Type:\", heights.dtype)\n",
        "\n",
        "# Array with decimal values (floats)\n",
        "percentages = np.array([85.5, 90.2, 78.6])\n",
        "print(\"\\nPercentages:\", percentages)\n",
        "print(\"Data Type:\", percentages.dtype)\n",
        "\n",
        "# Array with single characters\n",
        "initials = np.array(['R', 'S', 'T'])\n",
        "print(\"\\nInitials:\", initials)\n",
        "print(\"Data Type:\", initials.dtype)\n",
        "\n",
        "# Array with mixed data (characters + numbers)\n",
        "student_data = np.array(['Raj', 'Simran', 101, 102])\n",
        "print(\"\\nStudent Data:\", student_data)\n",
        "print(\"Data Type:\", student_data.dtype)\n"
      ],
      "metadata": {
        "colab": {
          "base_uri": "https://localhost:8080/"
        },
        "id": "U2mlfKO3EHTv",
        "outputId": "5e1b84f8-3a22-4268-c317-28b964643cb9"
      },
      "execution_count": 5,
      "outputs": [
        {
          "output_type": "stream",
          "name": "stdout",
          "text": [
            "Heights: [150 160 170 180]\n",
            "Data Type: int64\n",
            "\n",
            "Percentages: [85.5 90.2 78.6]\n",
            "Data Type: float64\n",
            "\n",
            "Initials: ['R' 'S' 'T']\n",
            "Data Type: <U1\n",
            "\n",
            "Student Data: ['Raj' 'Simran' '101' '102']\n",
            "Data Type: <U21\n"
          ]
        }
      ]
    },
    {
      "cell_type": "markdown",
      "source": [
        "# list of characters that are used to represent dtype in Numpy\n",
        "\n",
        "i: integer\n",
        "\n",
        "b: boolean\n",
        "\n",
        "u: unsigned integer\n",
        "\n",
        "f: float\n",
        "\n",
        "c: complex float\n",
        "\n",
        "m: timedelta\n",
        "\n",
        "M: datatime\n",
        "\n",
        "O: object\n",
        "\n",
        "S: string\n",
        "\n",
        "U: Unicode string\n",
        "\n",
        "V: the fixed chunk of memory for other types(void)"
      ],
      "metadata": {
        "id": "NYTIDVv9EL--"
      }
    },
    {
      "cell_type": "markdown",
      "source": [
        "# 1. Integer Array with Specific Type (int16)"
      ],
      "metadata": {
        "id": "9L5nQ-ahDB8V"
      }
    },
    {
      "cell_type": "code",
      "source": [
        "import numpy as np\n",
        "\n",
        "marks = np.array([50, 60, 70, 80], dtype=np.int16)\n",
        "print(\"Student Marks:\", marks)\n",
        "print(\"Data Type:\", marks.dtype)\n"
      ],
      "metadata": {
        "colab": {
          "base_uri": "https://localhost:8080/"
        },
        "id": "BhIY90pKDEAa",
        "outputId": "29386356-b97e-4679-e359-13ccbef8faa6"
      },
      "execution_count": 1,
      "outputs": [
        {
          "output_type": "stream",
          "name": "stdout",
          "text": [
            "Student Marks: [50 60 70 80]\n",
            "Data Type: int16\n"
          ]
        }
      ]
    },
    {
      "cell_type": "markdown",
      "source": [
        "# 2. Float Array (float32)"
      ],
      "metadata": {
        "id": "3XXF44oiDM-U"
      }
    },
    {
      "cell_type": "code",
      "source": [
        "prices = np.array([99.99, 149.49, 249.75], dtype=np.float32)\n",
        "print(\"Product Prices:\", prices)\n",
        "print(\"Data Type:\", prices.dtype)\n"
      ],
      "metadata": {
        "colab": {
          "base_uri": "https://localhost:8080/"
        },
        "id": "HaZdQbGyDO2h",
        "outputId": "500f9a7d-da8a-463a-e05d-6f91e9e3bc70"
      },
      "execution_count": 2,
      "outputs": [
        {
          "output_type": "stream",
          "name": "stdout",
          "text": [
            "Product Prices: [ 99.99 149.49 249.75]\n",
            "Data Type: float32\n"
          ]
        }
      ]
    },
    {
      "cell_type": "markdown",
      "source": [
        "# 3. Boolean Array"
      ],
      "metadata": {
        "id": "Ti-FQqUODS4F"
      }
    },
    {
      "cell_type": "code",
      "source": [
        "responses = np.array([True, False, False, True])\n",
        "print(\"Survey Responses:\", responses)\n",
        "print(\"Data Type:\", responses.dtype)\n"
      ],
      "metadata": {
        "colab": {
          "base_uri": "https://localhost:8080/"
        },
        "id": "6goWw7EpDWIc",
        "outputId": "7af331f7-c431-499c-b9c7-57d3f136f549"
      },
      "execution_count": 3,
      "outputs": [
        {
          "output_type": "stream",
          "name": "stdout",
          "text": [
            "Survey Responses: [ True False False  True]\n",
            "Data Type: bool\n"
          ]
        }
      ]
    },
    {
      "cell_type": "markdown",
      "source": [
        "# 4. Complex Array (complex64)"
      ],
      "metadata": {
        "id": "EaGhgW3DDa_K"
      }
    },
    {
      "cell_type": "code",
      "source": [
        "voltages = np.array([1+2j, 3+4j, 5+6j], dtype=np.complex64)\n",
        "print(\"Voltages:\", voltages)\n",
        "print(\"Data Type:\", voltages.dtype)\n"
      ],
      "metadata": {
        "colab": {
          "base_uri": "https://localhost:8080/"
        },
        "id": "-BSoxRt9Dcca",
        "outputId": "880bc3ee-2541-4c55-907b-e39b8fc8d261"
      },
      "execution_count": 4,
      "outputs": [
        {
          "output_type": "stream",
          "name": "stdout",
          "text": [
            "Voltages: [1.+2.j 3.+4.j 5.+6.j]\n",
            "Data Type: complex64\n"
          ]
        }
      ]
    },
    {
      "cell_type": "markdown",
      "source": [
        "# 5. Unicode String Array"
      ],
      "metadata": {
        "id": "d3tSncQuEYRL"
      }
    },
    {
      "cell_type": "code",
      "source": [
        "cities = np.array(['Pune', 'Mumbai', 'Nashik'])\n",
        "print(\"Cities:\", cities)\n",
        "print(\"Data Type:\", cities.dtype)\n"
      ],
      "metadata": {
        "colab": {
          "base_uri": "https://localhost:8080/"
        },
        "id": "oCzG8l-PEcA4",
        "outputId": "67d1d524-01fe-4ecd-8d58-6e2d90033d9b"
      },
      "execution_count": 6,
      "outputs": [
        {
          "output_type": "stream",
          "name": "stdout",
          "text": [
            "Cities: ['Pune' 'Mumbai' 'Nashik']\n",
            "Data Type: <U6\n"
          ]
        }
      ]
    },
    {
      "cell_type": "markdown",
      "source": [
        "# 6. Unsigned Integer (uint8)"
      ],
      "metadata": {
        "id": "0pxheuwQEeTr"
      }
    },
    {
      "cell_type": "code",
      "source": [
        "ages = np.array([10, 20, 30, 40], dtype=np.uint8)\n",
        "print(\"Ages:\", ages)\n",
        "print(\"Data Type:\", ages.dtype)\n"
      ],
      "metadata": {
        "colab": {
          "base_uri": "https://localhost:8080/"
        },
        "id": "HqG4xqhzEhCn",
        "outputId": "a762ef7d-35be-49ee-b086-4a42489ffad1"
      },
      "execution_count": 7,
      "outputs": [
        {
          "output_type": "stream",
          "name": "stdout",
          "text": [
            "Ages: [10 20 30 40]\n",
            "Data Type: uint8\n"
          ]
        }
      ]
    },
    {
      "cell_type": "markdown",
      "source": [
        "# 7. Type Conversion Example: Float ➝ Int"
      ],
      "metadata": {
        "id": "50cX0ms3Ekcc"
      }
    },
    {
      "cell_type": "code",
      "source": [
        "weights = np.array([55.8, 60.2, 68.9])\n",
        "int_weights = weights.astype(np.int32)\n",
        "\n",
        "print(\"Weights (Float):\", weights)\n",
        "print(\"Weights (Integer):\", int_weights)\n",
        "print(\"Converted Data Type:\", int_weights.dtype)\n"
      ],
      "metadata": {
        "colab": {
          "base_uri": "https://localhost:8080/"
        },
        "id": "CSBjY98DEm90",
        "outputId": "a9898fc6-4918-44a7-d29a-673d1cc46f6d"
      },
      "execution_count": 8,
      "outputs": [
        {
          "output_type": "stream",
          "name": "stdout",
          "text": [
            "Weights (Float): [55.8 60.2 68.9]\n",
            "Weights (Integer): [55 60 68]\n",
            "Converted Data Type: int32\n"
          ]
        }
      ]
    },
    {
      "cell_type": "markdown",
      "source": [
        "# 8. Type Conversion Example: Int ➝ Complex"
      ],
      "metadata": {
        "id": "ZqheKp9XEp-p"
      }
    },
    {
      "cell_type": "code",
      "source": [
        "temps = np.array([23, 25, 28])\n",
        "complex_temps = temps.astype(np.complex128)\n",
        "\n",
        "print(\"Temperatures:\", temps)\n",
        "print(\"Converted to Complex:\", complex_temps)\n",
        "print(\"Data Type:\", complex_temps.dtype)\n"
      ],
      "metadata": {
        "colab": {
          "base_uri": "https://localhost:8080/"
        },
        "id": "k75jp9x7Esu2",
        "outputId": "3b991946-9b94-417b-d89c-cfee5d86e0a4"
      },
      "execution_count": 9,
      "outputs": [
        {
          "output_type": "stream",
          "name": "stdout",
          "text": [
            "Temperatures: [23 25 28]\n",
            "Converted to Complex: [23.+0.j 25.+0.j 28.+0.j]\n",
            "Data Type: complex128\n"
          ]
        }
      ]
    }
  ]
}