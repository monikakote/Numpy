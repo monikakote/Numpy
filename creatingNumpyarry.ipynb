{
  "nbformat": 4,
  "nbformat_minor": 0,
  "metadata": {
    "colab": {
      "provenance": [],
      "authorship_tag": "ABX9TyNnxHootaZ/n/rqrx9+G45M",
      "include_colab_link": true
    },
    "kernelspec": {
      "name": "python3",
      "display_name": "Python 3"
    },
    "language_info": {
      "name": "python"
    }
  },
  "cells": [
    {
      "cell_type": "markdown",
      "metadata": {
        "id": "view-in-github",
        "colab_type": "text"
      },
      "source": [
        "<a href=\"https://colab.research.google.com/github/monikakote/Numpy/blob/main/creatingNumpyarry.ipynb\" target=\"_parent\"><img src=\"https://colab.research.google.com/assets/colab-badge.svg\" alt=\"Open In Colab\"/></a>"
      ]
    },
    {
      "cell_type": "markdown",
      "source": [
        "# Creating NumPy Arrays\n",
        "\n",
        "To create a NumPy array , you can use the function np.array()"
      ],
      "metadata": {
        "id": "KJb2gkxA-NxO"
      }
    },
    {
      "cell_type": "code",
      "execution_count": 2,
      "metadata": {
        "colab": {
          "base_uri": "https://localhost:8080/"
        },
        "id": "kEviM32b-Fvu",
        "outputId": "1aac4dd7-865d-43e8-8c15-7b611a0a0298"
      },
      "outputs": [
        {
          "output_type": "stream",
          "name": "stdout",
          "text": [
            "[10 20 30 40]\n"
          ]
        }
      ],
      "source": [
        "import numpy as np\n",
        "arr = np.array([10, 20, 30, 40])\n",
        "print(arr)\n"
      ]
    },
    {
      "cell_type": "markdown",
      "source": [
        "# Dimensions in Array\n",
        "\n",
        "1-D Arrays\n",
        "\n",
        "2-D Arrays\n",
        "\n",
        "3-D Arrays\n",
        "\n",
        "Higher Dimensional Arrays\n",
        "\n"
      ],
      "metadata": {
        "id": "TIE0UaUs_H5Q"
      }
    },
    {
      "cell_type": "code",
      "source": [
        "#2D array\n",
        "arr2 = np.array([[1, 2], [3, 4]])\n",
        "print(arr2)\n",
        "print('Dimensions =', arr2.ndim)\n"
      ],
      "metadata": {
        "colab": {
          "base_uri": "https://localhost:8080/"
        },
        "id": "hrD0b_jG_dBX",
        "outputId": "cd00b722-9fb1-4ac5-8234-e5ca28bb8d17"
      },
      "execution_count": 3,
      "outputs": [
        {
          "output_type": "stream",
          "name": "stdout",
          "text": [
            "[[1 2]\n",
            " [3 4]]\n",
            "Dimensions = 2\n"
          ]
        }
      ]
    },
    {
      "cell_type": "code",
      "source": [
        "#3D array\n",
        "arr3 = np.array([[[1], [2]], [[3], [4]]])\n",
        "print(arr3)\n",
        "print('Dimensions =', arr3.ndim)\n"
      ],
      "metadata": {
        "colab": {
          "base_uri": "https://localhost:8080/"
        },
        "id": "cV22saPz_jCg",
        "outputId": "2e79f956-00de-4920-ccf5-2ce2b34d890d"
      },
      "execution_count": 4,
      "outputs": [
        {
          "output_type": "stream",
          "name": "stdout",
          "text": [
            "[[[1]\n",
            "  [2]]\n",
            "\n",
            " [[3]\n",
            "  [4]]]\n",
            "Dimensions = 3\n"
          ]
        }
      ]
    },
    {
      "cell_type": "code",
      "source": [
        "#10D array\n",
        "arrn = np.array([1, 2], ndmin=10)\n",
        "print(arrn)\n",
        "print('Dimensions =', arrn.ndim)\n"
      ],
      "metadata": {
        "colab": {
          "base_uri": "https://localhost:8080/"
        },
        "id": "QmV7Me8P_o-0",
        "outputId": "dcdefea0-96a2-45b9-eafe-96735e432a8b"
      },
      "execution_count": 5,
      "outputs": [
        {
          "output_type": "stream",
          "name": "stdout",
          "text": [
            "[[[[[[[[[[1 2]]]]]]]]]]\n",
            "Dimensions = 10\n"
          ]
        }
      ]
    },
    {
      "cell_type": "markdown",
      "source": [
        "# Special NumPy Array\n",
        "\n",
        "array filled with 0's\n",
        "\n",
        "array filled with 1's\n",
        "\n",
        "create an empty array\n",
        "\n",
        "an array with a range of elements\n",
        "\n",
        "array diagonal element filled with 1's\n",
        "\n",
        "create a array with values that are spaced linearly in a specified interval"
      ],
      "metadata": {
        "id": "ighnZpqA_wN7"
      }
    },
    {
      "cell_type": "code",
      "source": [
        "#Zeros\n",
        "arr_zero = np.zeros((2, 2))\n",
        "print(arr_zero)\n"
      ],
      "metadata": {
        "colab": {
          "base_uri": "https://localhost:8080/"
        },
        "id": "eiiCuqvo_7kz",
        "outputId": "d97e458e-36e0-462b-eafd-0d7a36caf0d7"
      },
      "execution_count": 6,
      "outputs": [
        {
          "output_type": "stream",
          "name": "stdout",
          "text": [
            "[[0. 0.]\n",
            " [0. 0.]]\n"
          ]
        }
      ]
    },
    {
      "cell_type": "code",
      "source": [
        "#Ones\n",
        "arr_one = np.ones((2, 3), dtype=int)\n",
        "print(arr_one)\n"
      ],
      "metadata": {
        "colab": {
          "base_uri": "https://localhost:8080/"
        },
        "id": "81NFpoQB_-xh",
        "outputId": "05a6a1c7-1072-46fa-9444-b6887b34503a"
      },
      "execution_count": 7,
      "outputs": [
        {
          "output_type": "stream",
          "name": "stdout",
          "text": [
            "[[1 1 1]\n",
            " [1 1 1]]\n"
          ]
        }
      ]
    },
    {
      "cell_type": "code",
      "source": [
        "#Empty\n",
        "arr_emp = np.empty((2, 3))\n",
        "print(arr_emp)\n"
      ],
      "metadata": {
        "colab": {
          "base_uri": "https://localhost:8080/"
        },
        "id": "NKFfQv2MACau",
        "outputId": "05f08f3a-c3f7-4d59-a5a9-27e97b4ef64f"
      },
      "execution_count": 8,
      "outputs": [
        {
          "output_type": "stream",
          "name": "stdout",
          "text": [
            "[[8.39473080e-316 0.00000000e+000 6.91878117e-310]\n",
            " [6.91878117e-310 6.91876773e-310 5.33270743e-317]]\n"
          ]
        }
      ]
    },
    {
      "cell_type": "code",
      "source": [
        "#Range\n",
        "arr_rn = np.arange(10, 20, 2)\n",
        "print(arr_rn)\n"
      ],
      "metadata": {
        "colab": {
          "base_uri": "https://localhost:8080/"
        },
        "id": "lGckdMfeAIlA",
        "outputId": "3db2ddf3-b768-4233-cfb9-ac31b2840b2b"
      },
      "execution_count": 9,
      "outputs": [
        {
          "output_type": "stream",
          "name": "stdout",
          "text": [
            "[10 12 14 16 18]\n"
          ]
        }
      ]
    },
    {
      "cell_type": "code",
      "source": [
        "#Diagonal\n",
        "arr_dia = np.eye(4)\n",
        "print(arr_dia)\n"
      ],
      "metadata": {
        "colab": {
          "base_uri": "https://localhost:8080/"
        },
        "id": "k5BxxyRvARZ5",
        "outputId": "80e939e9-e3f5-4fda-c141-128e07698880"
      },
      "execution_count": 10,
      "outputs": [
        {
          "output_type": "stream",
          "name": "stdout",
          "text": [
            "[[1. 0. 0. 0.]\n",
            " [0. 1. 0. 0.]\n",
            " [0. 0. 1. 0.]\n",
            " [0. 0. 0. 1.]]\n"
          ]
        }
      ]
    },
    {
      "cell_type": "code",
      "source": [
        "# Linspace\n",
        "arr_lin = np.linspace(0, 1, 4)\n",
        "print(arr_lin)\n"
      ],
      "metadata": {
        "colab": {
          "base_uri": "https://localhost:8080/"
        },
        "id": "RFcu9xWcAZjS",
        "outputId": "28d58fff-3669-4161-fa35-9332186857e0"
      },
      "execution_count": 11,
      "outputs": [
        {
          "output_type": "stream",
          "name": "stdout",
          "text": [
            "[0.         0.33333333 0.66666667 1.        ]\n"
          ]
        }
      ]
    },
    {
      "cell_type": "markdown",
      "source": [
        "# Create NumPy Arrays with Random Numbers\n",
        "\n",
        "1. rand()\n",
        "\n",
        "rand() : the function is used to generate a random number between 0 to 1"
      ],
      "metadata": {
        "id": "W6_-tEKgAfyJ"
      }
    },
    {
      "cell_type": "code",
      "source": [
        "#rand()\n",
        "rand_arr = np.random.rand(3, 2)\n",
        "print(rand_arr)\n"
      ],
      "metadata": {
        "colab": {
          "base_uri": "https://localhost:8080/"
        },
        "id": "CP7S52yOAmrN",
        "outputId": "cbf28e65-b634-42f3-ee07-f648dbed33ad"
      },
      "execution_count": 12,
      "outputs": [
        {
          "output_type": "stream",
          "name": "stdout",
          "text": [
            "[[0.53455372 0.6398835 ]\n",
            " [0.96561075 0.87258776]\n",
            " [0.58135834 0.97664693]]\n"
          ]
        }
      ]
    },
    {
      "cell_type": "markdown",
      "source": [
        "# 2. randn()\n",
        "\n",
        "randn() : the function is used to generate a random value cloase to zero. This may return positive or negative numbers as well."
      ],
      "metadata": {
        "id": "cvOpggLCA20X"
      }
    },
    {
      "cell_type": "code",
      "source": [
        "#randn()\n",
        "randn_arr = np.random.randn(2, 2)\n",
        "print(randn_arr)\n"
      ],
      "metadata": {
        "colab": {
          "base_uri": "https://localhost:8080/"
        },
        "id": "O-kHCwqFA6PI",
        "outputId": "7bba9076-fcf1-4878-b546-84fad5d63c4f"
      },
      "execution_count": 13,
      "outputs": [
        {
          "output_type": "stream",
          "name": "stdout",
          "text": [
            "[[ 0.56737673 -2.03750476]\n",
            " [-0.53935291 -0.00784422]]\n"
          ]
        }
      ]
    },
    {
      "cell_type": "markdown",
      "source": [
        "# 3. ranf()\n",
        "\n",
        "ranf() : the function for doing random sampling in numpy . It returns an array of specified shape and fills it with random floats in the half open interval [0.0,1.0)"
      ],
      "metadata": {
        "id": "AIhJ_qWFBCMh"
      }
    },
    {
      "cell_type": "code",
      "source": [
        "#ranf()\n",
        "ranf_arr = np.random.ranf((2, 3))\n",
        "print(ranf_arr)\n"
      ],
      "metadata": {
        "colab": {
          "base_uri": "https://localhost:8080/"
        },
        "id": "S999WBenBE2s",
        "outputId": "fd03bb63-cc88-498e-8aff-561e9f8787a0"
      },
      "execution_count": 14,
      "outputs": [
        {
          "output_type": "stream",
          "name": "stdout",
          "text": [
            "[[0.12235988 0.51349383 0.51265226]\n",
            " [0.3160636  0.31673369 0.59512483]]\n"
          ]
        }
      ]
    },
    {
      "cell_type": "markdown",
      "source": [
        "# 4. randint()\n",
        "\n",
        "the function is used to generate a random number between a given range."
      ],
      "metadata": {
        "id": "oJ598NTdBLJC"
      }
    },
    {
      "cell_type": "code",
      "source": [
        "#randint()\n",
        "randint_arr = np.random.randint(10, 50, size=(2, 4))\n",
        "print(randint_arr)\n"
      ],
      "metadata": {
        "colab": {
          "base_uri": "https://localhost:8080/"
        },
        "id": "54gNg0q5BNqk",
        "outputId": "e769ea25-9c28-4bfb-d3c5-627e5dec8a6e"
      },
      "execution_count": 15,
      "outputs": [
        {
          "output_type": "stream",
          "name": "stdout",
          "text": [
            "[[43 11 18 20]\n",
            " [38 29 22 34]]\n"
          ]
        }
      ]
    }
  ]
}