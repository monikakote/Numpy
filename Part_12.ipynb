{
  "nbformat": 4,
  "nbformat_minor": 0,
  "metadata": {
    "colab": {
      "provenance": [],
      "authorship_tag": "ABX9TyPMc0wAqjdBuCwX+dpTIR3v",
      "include_colab_link": true
    },
    "kernelspec": {
      "name": "python3",
      "display_name": "Python 3"
    },
    "language_info": {
      "name": "python"
    }
  },
  "cells": [
    {
      "cell_type": "markdown",
      "metadata": {
        "id": "view-in-github",
        "colab_type": "text"
      },
      "source": [
        "<a href=\"https://colab.research.google.com/github/monikakote/Numpy/blob/main/Part_12.ipynb\" target=\"_parent\"><img src=\"https://colab.research.google.com/assets/colab-badge.svg\" alt=\"Open In Colab\"/></a>"
      ]
    },
    {
      "cell_type": "markdown",
      "source": [
        "# Matrix in NumPy Arrays"
      ],
      "metadata": {
        "id": "L-Dg7CK4_WhC"
      }
    },
    {
      "cell_type": "code",
      "execution_count": 1,
      "metadata": {
        "colab": {
          "base_uri": "https://localhost:8080/"
        },
        "id": "dKDkLU23_MBN",
        "outputId": "9b478a17-9d84-4afc-88e6-9d0acf94831f"
      },
      "outputs": [
        {
          "output_type": "stream",
          "name": "stdout",
          "text": [
            "a\n",
            " [[2 4 6]\n",
            " [3 6 9]]\n",
            "Type:- <class 'numpy.matrix'>\n"
          ]
        }
      ],
      "source": [
        "import numpy as np\n",
        "a = np.matrix([[2,4,6],[3,6,9]])\n",
        "print('a\\n',a)\n",
        "print('Type:-',type(a))\n"
      ]
    },
    {
      "cell_type": "markdown",
      "source": [
        "# Matrix Addition and Multiplication"
      ],
      "metadata": {
        "id": "OcnUM-MC_pMh"
      }
    },
    {
      "cell_type": "code",
      "source": [
        "import numpy as np\n",
        "x = np.matrix([[2,1],[0,1]])\n",
        "y = np.matrix([[1,3],[4,2]])\n",
        "print('x\\n',x)\n",
        "print('y\\n',y)\n",
        "print()\n",
        "print('Addition:-\\n',x + y)\n",
        "print('Multiplication:-\\n',x.dot(y))\n"
      ],
      "metadata": {
        "colab": {
          "base_uri": "https://localhost:8080/"
        },
        "id": "CC6tPesF_sw5",
        "outputId": "4ef43ea4-92b3-4a64-87f9-894d85fc41db"
      },
      "execution_count": 3,
      "outputs": [
        {
          "output_type": "stream",
          "name": "stdout",
          "text": [
            "x\n",
            " [[2 1]\n",
            " [0 1]]\n",
            "y\n",
            " [[1 3]\n",
            " [4 2]]\n",
            "\n",
            "Addition:-\n",
            " [[3 4]\n",
            " [4 3]]\n",
            "Multiplication:-\n",
            " [[6 8]\n",
            " [4 2]]\n"
          ]
        }
      ]
    },
    {
      "cell_type": "markdown",
      "source": [
        "# Matrix Function in NumPy Arrays\n",
        "\n",
        "Transpose\n",
        "\n",
        "Swapaxes\n",
        "\n",
        "Inverse\n",
        "\n",
        "Power\n",
        "\n",
        "Determinant"
      ],
      "metadata": {
        "id": "FQjPnsu-_xjw"
      }
    },
    {
      "cell_type": "markdown",
      "source": [
        "# Transpose"
      ],
      "metadata": {
        "id": "UzsyRxq0_6u6"
      }
    },
    {
      "cell_type": "code",
      "source": [
        "import numpy as np\n",
        "m = np.matrix([[2,5,7],[1,3,9]])\n",
        "print('m\\n',m)\n",
        "print()\n",
        "print('Transpose\\n',np.transpose(m))\n",
        "print('\\n',m.T)\n"
      ],
      "metadata": {
        "colab": {
          "base_uri": "https://localhost:8080/"
        },
        "id": "hIKYLm3C_4MW",
        "outputId": "18c3e2a5-3fde-4284-e36c-db131402b2bd"
      },
      "execution_count": 4,
      "outputs": [
        {
          "output_type": "stream",
          "name": "stdout",
          "text": [
            "m\n",
            " [[2 5 7]\n",
            " [1 3 9]]\n",
            "\n",
            "Transpose\n",
            " [[2 1]\n",
            " [5 3]\n",
            " [7 9]]\n",
            "\n",
            " [[2 1]\n",
            " [5 3]\n",
            " [7 9]]\n"
          ]
        }
      ]
    },
    {
      "cell_type": "markdown",
      "source": [
        "# Swapaxes"
      ],
      "metadata": {
        "id": "J6yFwKCc__1X"
      }
    },
    {
      "cell_type": "code",
      "source": [
        "m = np.matrix([[7,8,9],[4,5,6]])\n",
        "print('m\\n',m)\n",
        "print('After Swapping')\n",
        "print(np.swapaxes(m,0,1))\n"
      ],
      "metadata": {
        "colab": {
          "base_uri": "https://localhost:8080/"
        },
        "id": "DsslBxhGACa2",
        "outputId": "d39b560d-8dc3-4d98-e5ac-fdbaec82d96d"
      },
      "execution_count": 5,
      "outputs": [
        {
          "output_type": "stream",
          "name": "stdout",
          "text": [
            "m\n",
            " [[7 8 9]\n",
            " [4 5 6]]\n",
            "After Swapping\n",
            "[[7 4]\n",
            " [8 5]\n",
            " [9 6]]\n"
          ]
        }
      ]
    },
    {
      "cell_type": "markdown",
      "source": [
        "# Inverse"
      ],
      "metadata": {
        "id": "do6Z3e1NAFi1"
      }
    },
    {
      "cell_type": "code",
      "source": [
        "m3 = np.matrix([[5,2],[7,3]])\n",
        "print('m3\\n',m3)\n",
        "print()\n",
        "print('Inverse matrix \\n')\n",
        "print(np.linalg.inv(m3))\n"
      ],
      "metadata": {
        "colab": {
          "base_uri": "https://localhost:8080/"
        },
        "id": "i0MGRRtfAHJB",
        "outputId": "5947ac2f-01eb-4783-e177-a938df76614e"
      },
      "execution_count": 6,
      "outputs": [
        {
          "output_type": "stream",
          "name": "stdout",
          "text": [
            "m3\n",
            " [[5 2]\n",
            " [7 3]]\n",
            "\n",
            "Inverse matrix \n",
            "\n",
            "[[ 3. -2.]\n",
            " [-7.  5.]]\n"
          ]
        }
      ]
    },
    {
      "cell_type": "markdown",
      "source": [
        "# Power"
      ],
      "metadata": {
        "id": "9hNb0GvpAKmR"
      }
    },
    {
      "cell_type": "code",
      "source": [
        "m4 = np.matrix([[2,1],[1,2]])\n",
        "print('m4\\n',m4)\n",
        "print()\n",
        "print(np.linalg.matrix_power(m4,2))\n",
        "print()\n",
        "print('identity Matrix')\n",
        "print(np.linalg.matrix_power(m4,0))\n",
        "print()\n",
        "print('Inverse Matrix')\n",
        "print(np.linalg.matrix_power(m4,-1))\n"
      ],
      "metadata": {
        "colab": {
          "base_uri": "https://localhost:8080/"
        },
        "id": "ZjJjZEcNAL_x",
        "outputId": "7fdb3038-ea10-477b-f3cd-b143f1e55cba"
      },
      "execution_count": 7,
      "outputs": [
        {
          "output_type": "stream",
          "name": "stdout",
          "text": [
            "m4\n",
            " [[2 1]\n",
            " [1 2]]\n",
            "\n",
            "[[5 4]\n",
            " [4 5]]\n",
            "\n",
            "identity Matrix\n",
            "[[1 0]\n",
            " [0 1]]\n",
            "\n",
            "Inverse Matrix\n",
            "[[ 0.66666667 -0.33333333]\n",
            " [-0.33333333  0.66666667]]\n"
          ]
        }
      ]
    },
    {
      "cell_type": "markdown",
      "source": [
        "# Determinant"
      ],
      "metadata": {
        "id": "fXKBslezAPR2"
      }
    },
    {
      "cell_type": "code",
      "source": [
        "m5 = np.matrix([[2,3,4],[1,0,2],[5,1,3]])\n",
        "print('m5\\n',m5)\n",
        "print()\n",
        "print('Determinant\\n')\n",
        "print(np.linalg.det(m5))\n"
      ],
      "metadata": {
        "colab": {
          "base_uri": "https://localhost:8080/"
        },
        "id": "_r5WkJ92ARq9",
        "outputId": "98bb89a5-1031-4489-9d8d-c3c5d847021c"
      },
      "execution_count": 8,
      "outputs": [
        {
          "output_type": "stream",
          "name": "stdout",
          "text": [
            "m5\n",
            " [[2 3 4]\n",
            " [1 0 2]\n",
            " [5 1 3]]\n",
            "\n",
            "Determinant\n",
            "\n",
            "21.0\n"
          ]
        }
      ]
    }
  ]
}