{
  "nbformat": 4,
  "nbformat_minor": 0,
  "metadata": {
    "colab": {
      "provenance": [],
      "authorship_tag": "ABX9TyNtn5yH2M2zVVlUFZNIlcQd",
      "include_colab_link": true
    },
    "kernelspec": {
      "name": "python3",
      "display_name": "Python 3"
    },
    "language_info": {
      "name": "python"
    }
  },
  "cells": [
    {
      "cell_type": "markdown",
      "metadata": {
        "id": "view-in-github",
        "colab_type": "text"
      },
      "source": [
        "<a href=\"https://colab.research.google.com/github/monikakote/Numpy/blob/main/Arithmetic_Operations_Part3.ipynb\" target=\"_parent\"><img src=\"https://colab.research.google.com/assets/colab-badge.svg\" alt=\"Open In Colab\"/></a>"
      ]
    },
    {
      "cell_type": "markdown",
      "source": [
        "# Arithmetic Operations in NumPy Arrays\n",
        "\n",
        "a+b : np.add(a,b)\n",
        "\n",
        "a-b : np.substract(a,b)\n",
        "\n",
        "a*b : np.multiply(a,b)\n",
        "\n",
        "a/b : np.divide(a,b)\n",
        "\n",
        "a%b : np.mod(a,b)\n",
        "\n",
        "a**b: np.power(a,b)\n",
        "\n",
        "1/a : np.reciprocal(a)"
      ],
      "metadata": {
        "id": "iJFRDWb8GC2x"
      }
    },
    {
      "cell_type": "markdown",
      "source": [
        "# 1-D array"
      ],
      "metadata": {
        "id": "rrrOEZJ4GJPr"
      }
    },
    {
      "cell_type": "markdown",
      "source": [
        "# 1. Add 5 to each element"
      ],
      "metadata": {
        "id": "9FBSmwD1GrbP"
      }
    },
    {
      "cell_type": "code",
      "source": [
        "import numpy as np\n",
        "arr = np.array([10, 20, 30])\n",
        "result = arr + 5\n",
        "print(result)\n"
      ],
      "metadata": {
        "colab": {
          "base_uri": "https://localhost:8080/"
        },
        "id": "iv454FnGGuzZ",
        "outputId": "ca350ac5-42a7-4e17-9b0f-10a00e91bdd8"
      },
      "execution_count": 1,
      "outputs": [
        {
          "output_type": "stream",
          "name": "stdout",
          "text": [
            "[15 25 35]\n"
          ]
        }
      ]
    },
    {
      "cell_type": "markdown",
      "source": [
        "# 2. Subtract 2 from each element"
      ],
      "metadata": {
        "id": "68Fg8EqmGzi_"
      }
    },
    {
      "cell_type": "code",
      "source": [
        "arr = np.array([5, 10, 15])\n",
        "result = arr - 2\n",
        "print(result)\n"
      ],
      "metadata": {
        "colab": {
          "base_uri": "https://localhost:8080/"
        },
        "id": "bF_MikBcG44A",
        "outputId": "45361c14-5bb0-4bb0-e77e-63f8050956e5"
      },
      "execution_count": 2,
      "outputs": [
        {
          "output_type": "stream",
          "name": "stdout",
          "text": [
            "[ 3  8 13]\n"
          ]
        }
      ]
    },
    {
      "cell_type": "markdown",
      "source": [
        "# 3. Multiply each element by 4"
      ],
      "metadata": {
        "id": "bmb0SMING8r2"
      }
    },
    {
      "cell_type": "code",
      "source": [
        "arr = np.array([1, 2, 3])\n",
        "result = arr * 4\n",
        "print(result)\n"
      ],
      "metadata": {
        "colab": {
          "base_uri": "https://localhost:8080/"
        },
        "id": "uYKHJyGFHDSf",
        "outputId": "1ed26bf3-0d9a-4cfa-d545-49189ec75870"
      },
      "execution_count": 3,
      "outputs": [
        {
          "output_type": "stream",
          "name": "stdout",
          "text": [
            "[ 4  8 12]\n"
          ]
        }
      ]
    },
    {
      "cell_type": "markdown",
      "source": [
        "# 4. Divide each element by 2"
      ],
      "metadata": {
        "id": "0g77cCoVHG7-"
      }
    },
    {
      "cell_type": "code",
      "source": [
        "arr = np.array([8, 16, 24])\n",
        "result = arr / 2\n",
        "print(result)\n"
      ],
      "metadata": {
        "colab": {
          "base_uri": "https://localhost:8080/"
        },
        "id": "WJSD4SElHKZ5",
        "outputId": "c97a43ba-81e1-4fd7-bac7-6ed328ded28c"
      },
      "execution_count": 4,
      "outputs": [
        {
          "output_type": "stream",
          "name": "stdout",
          "text": [
            "[ 4.  8. 12.]\n"
          ]
        }
      ]
    },
    {
      "cell_type": "markdown",
      "source": [
        "# 5. Modulo with 4"
      ],
      "metadata": {
        "id": "sOuZhzKUHP99"
      }
    },
    {
      "cell_type": "code",
      "source": [
        "arr = np.array([9, 10, 11])\n",
        "result = arr % 4\n",
        "print(result)\n"
      ],
      "metadata": {
        "colab": {
          "base_uri": "https://localhost:8080/"
        },
        "id": "gE5etKTHHS5H",
        "outputId": "839ae3d1-8ffc-4024-dac0-71732975cf1c"
      },
      "execution_count": 5,
      "outputs": [
        {
          "output_type": "stream",
          "name": "stdout",
          "text": [
            "[1 2 3]\n"
          ]
        }
      ]
    },
    {
      "cell_type": "markdown",
      "source": [
        "# 6. Power of 2"
      ],
      "metadata": {
        "id": "kuSvH9ceHWUl"
      }
    },
    {
      "cell_type": "code",
      "source": [
        "arr = np.array([2, 3, 4])\n",
        "result = arr ** 2\n",
        "print(result)\n"
      ],
      "metadata": {
        "colab": {
          "base_uri": "https://localhost:8080/"
        },
        "id": "sM_4woIBHZAI",
        "outputId": "f840a586-727b-4490-f42f-5a5f61a8779a"
      },
      "execution_count": 6,
      "outputs": [
        {
          "output_type": "stream",
          "name": "stdout",
          "text": [
            "[ 4  9 16]\n"
          ]
        }
      ]
    },
    {
      "cell_type": "markdown",
      "source": [
        "# 7. Reciprocal (1/x)"
      ],
      "metadata": {
        "id": "PKKkKK3_HckS"
      }
    },
    {
      "cell_type": "code",
      "source": [
        "arr = np.array([1, 2, 4])\n",
        "result = np.reciprocal(arr)\n",
        "print(result)\n"
      ],
      "metadata": {
        "colab": {
          "base_uri": "https://localhost:8080/"
        },
        "id": "BHbNU-UyHfBD",
        "outputId": "a01d26ae-aaa2-4129-92e1-0dd05652c5f9"
      },
      "execution_count": 7,
      "outputs": [
        {
          "output_type": "stream",
          "name": "stdout",
          "text": [
            "[1 0 0]\n"
          ]
        }
      ]
    },
    {
      "cell_type": "markdown",
      "source": [
        "# 2-D array"
      ],
      "metadata": {
        "id": "9mcHl2yjHiRz"
      }
    },
    {
      "cell_type": "code",
      "source": [
        "import numpy as np\n",
        "a = np.array([[1, 2], [3, 4]])\n",
        "b = np.array([[2, 0], [1, 3]])\n",
        "print(\"a * b:\\n\", a * b)\n"
      ],
      "metadata": {
        "colab": {
          "base_uri": "https://localhost:8080/"
        },
        "id": "pSsBCfHSHmrS",
        "outputId": "2d58f150-a1ff-429c-835b-94e7ec8f8b33"
      },
      "execution_count": 8,
      "outputs": [
        {
          "output_type": "stream",
          "name": "stdout",
          "text": [
            "a * b:\n",
            " [[ 2  0]\n",
            " [ 3 12]]\n"
          ]
        }
      ]
    },
    {
      "cell_type": "markdown",
      "source": [
        "# Arithmetic Functions\n",
        "\n",
        "np.min(x)\n",
        "\n",
        "np.max(x)\n",
        "\n",
        "np.argmin(x)\n",
        "\n",
        "np.sqrt(x)\n",
        "\n",
        "np.sin(x)\n",
        "\n",
        "np.cos(x)\n",
        "\n",
        "np.cumsum(x)"
      ],
      "metadata": {
        "id": "EguL3XKaHspp"
      }
    },
    {
      "cell_type": "markdown",
      "source": [
        "# 1. np.min(x), np.max(x), np.argmin(x), np.argmax(x)"
      ],
      "metadata": {
        "id": "ejUztB3iH1os"
      }
    },
    {
      "cell_type": "code",
      "source": [
        "arr = np.array([10, 25, 5, 40])\n",
        "print(\"Min:\", np.min(arr))\n",
        "print(\"Max:\", np.max(arr))\n",
        "print(\"Min Index:\", np.argmin(arr))\n",
        "print(\"Max Index:\", np.argmax(arr))\n"
      ],
      "metadata": {
        "colab": {
          "base_uri": "https://localhost:8080/"
        },
        "id": "Bhv75qa5H4ME",
        "outputId": "d4977686-7c03-40cc-a7a6-96a5d869e0c4"
      },
      "execution_count": 9,
      "outputs": [
        {
          "output_type": "stream",
          "name": "stdout",
          "text": [
            "Min: 5\n",
            "Max: 40\n",
            "Min Index: 2\n",
            "Max Index: 3\n"
          ]
        }
      ]
    },
    {
      "cell_type": "markdown",
      "source": [
        "# 2. np.sqrt(x)"
      ],
      "metadata": {
        "id": "EM3LGl1bH-kW"
      }
    },
    {
      "cell_type": "code",
      "source": [
        "arr = np.array([4, 9, 16])\n",
        "print(\"Square Roots:\", np.sqrt(arr))\n"
      ],
      "metadata": {
        "colab": {
          "base_uri": "https://localhost:8080/"
        },
        "id": "JhUYNx5RIBIs",
        "outputId": "21cab08c-3809-4f9a-d970-26f77e3e94d7"
      },
      "execution_count": 10,
      "outputs": [
        {
          "output_type": "stream",
          "name": "stdout",
          "text": [
            "Square Roots: [2. 3. 4.]\n"
          ]
        }
      ]
    },
    {
      "cell_type": "markdown",
      "source": [
        "# 3. np.sin(x), np.cos(x)"
      ],
      "metadata": {
        "id": "ErjX6mKbII-H"
      }
    },
    {
      "cell_type": "code",
      "source": [
        "arr = np.array([0, np.pi/2, np.pi])\n",
        "print(\"Sine:\", np.sin(arr))\n",
        "print(\"Cosine:\", np.cos(arr))\n"
      ],
      "metadata": {
        "colab": {
          "base_uri": "https://localhost:8080/"
        },
        "id": "zIf8VEpJILcV",
        "outputId": "48de97ee-1e3d-4724-ab2a-0ee6c43d0312"
      },
      "execution_count": 11,
      "outputs": [
        {
          "output_type": "stream",
          "name": "stdout",
          "text": [
            "Sine: [0.0000000e+00 1.0000000e+00 1.2246468e-16]\n",
            "Cosine: [ 1.000000e+00  6.123234e-17 -1.000000e+00]\n"
          ]
        }
      ]
    },
    {
      "cell_type": "markdown",
      "source": [
        "# 4. np.cumsum(x)"
      ],
      "metadata": {
        "id": "MlrYARIYISfr"
      }
    },
    {
      "cell_type": "code",
      "source": [
        "arr = np.array([1, 2, 3, 4])\n",
        "print(\"Cumulative Sum:\", np.cumsum(arr))\n"
      ],
      "metadata": {
        "colab": {
          "base_uri": "https://localhost:8080/"
        },
        "id": "Dlw2lPEuIVYA",
        "outputId": "a1846501-138f-451d-a39d-bc063b0df5e5"
      },
      "execution_count": 12,
      "outputs": [
        {
          "output_type": "stream",
          "name": "stdout",
          "text": [
            "Cumulative Sum: [ 1  3  6 10]\n"
          ]
        }
      ]
    },
    {
      "cell_type": "markdown",
      "source": [
        "# 5. np.min(x, axis=0) and np.min(x, axis=1)"
      ],
      "metadata": {
        "id": "1OiUEyaUIYl-"
      }
    },
    {
      "cell_type": "code",
      "source": [
        "arr = np.array([[7, 8, 9], [3, 4, 5]])\n",
        "print(\"Min in each row:\", np.min(arr, axis=1))\n",
        "print(\"Min in each column:\", np.min(arr, axis=0))\n"
      ],
      "metadata": {
        "colab": {
          "base_uri": "https://localhost:8080/"
        },
        "id": "sH7w9zBvIbe_",
        "outputId": "365509b7-4040-4688-d9a3-152ee8210b3a"
      },
      "execution_count": 13,
      "outputs": [
        {
          "output_type": "stream",
          "name": "stdout",
          "text": [
            "Min in each row: [7 3]\n",
            "Min in each column: [3 4 5]\n"
          ]
        }
      ]
    }
  ]
}