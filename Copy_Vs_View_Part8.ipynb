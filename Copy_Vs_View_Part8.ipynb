{
  "nbformat": 4,
  "nbformat_minor": 0,
  "metadata": {
    "colab": {
      "provenance": [],
      "authorship_tag": "ABX9TyN/eBluAJ++WNfMRmzTU8hz",
      "include_colab_link": true
    },
    "kernelspec": {
      "name": "python3",
      "display_name": "Python 3"
    },
    "language_info": {
      "name": "python"
    }
  },
  "cells": [
    {
      "cell_type": "markdown",
      "metadata": {
        "id": "view-in-github",
        "colab_type": "text"
      },
      "source": [
        "<a href=\"https://colab.research.google.com/github/monikakote/Numpy/blob/main/Copy_Vs_View_Part8.ipynb\" target=\"_parent\"><img src=\"https://colab.research.google.com/assets/colab-badge.svg\" alt=\"Open In Colab\"/></a>"
      ]
    },
    {
      "cell_type": "markdown",
      "source": [
        "# Copy Vs View"
      ],
      "metadata": {
        "id": "eN8vNv7Ttw-q"
      }
    },
    {
      "cell_type": "code",
      "execution_count": 1,
      "metadata": {
        "colab": {
          "base_uri": "https://localhost:8080/"
        },
        "id": "yhhd_DGettAA",
        "outputId": "ad0cba56-0a32-4be1-cd6c-af141e7b9948"
      },
      "outputs": [
        {
          "output_type": "stream",
          "name": "stdout",
          "text": [
            "Original (arr1) = [99 20 30 40 50]\n",
            "Copied (copied_arr) = [10 20 88 40 50]\n"
          ]
        }
      ],
      "source": [
        "import numpy as np\n",
        "\n",
        "# Original array\n",
        "arr1 = np.array([10, 20, 30, 40, 50])\n",
        "\n",
        "# Copy example\n",
        "copied_arr = arr1.copy()\n",
        "arr1[0] = 99\n",
        "copied_arr[2] = 88\n",
        "\n",
        "print(\"Original (arr1) =\", arr1)\n",
        "print(\"Copied (copied_arr) =\", copied_arr)\n"
      ]
    },
    {
      "cell_type": "code",
      "source": [
        "# View example\n",
        "arr2 = np.array([5, 15, 25, 35])\n",
        "view_arr = arr2.view()\n",
        "arr2[1] = 100\n",
        "view_arr[3] = 200\n",
        "\n",
        "print(\"Original (arr2) =\", arr2)\n",
        "print(\"View (view_arr) =\", view_arr)\n"
      ],
      "metadata": {
        "colab": {
          "base_uri": "https://localhost:8080/"
        },
        "id": "4XW9gbD_uDpa",
        "outputId": "d02eb92b-ed5c-4920-fab1-9f829b61c20d"
      },
      "execution_count": 2,
      "outputs": [
        {
          "output_type": "stream",
          "name": "stdout",
          "text": [
            "Original (arr2) = [  5 100  25 200]\n",
            "View (view_arr) = [  5 100  25 200]\n"
          ]
        }
      ]
    },
    {
      "cell_type": "markdown",
      "source": [
        "# Difference"
      ],
      "metadata": {
        "id": "zFANh3q2uLeD"
      }
    },
    {
      "cell_type": "markdown",
      "source": [
        "# Copy\n",
        "The copy owns the data.\n",
        "\n",
        "the copy of an array is an new array.\n",
        "\n",
        "the changes made in the copy data does not reflect in the original array."
      ],
      "metadata": {
        "id": "DA3iUV4ZuM-P"
      }
    },
    {
      "cell_type": "markdown",
      "source": [
        "## View\n",
        "The view does not own the data.\n",
        "\n",
        "A view of the original array.\n",
        "\n",
        "Any changes made to the view will affect the original array,and any changes made to the original array will affect the view."
      ],
      "metadata": {
        "id": "P7bNiNL-uS98"
      }
    }
  ]
}