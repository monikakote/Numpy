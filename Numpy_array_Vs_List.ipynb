{
  "nbformat": 4,
  "nbformat_minor": 0,
  "metadata": {
    "colab": {
      "provenance": [],
      "authorship_tag": "ABX9TyPfQbD7nfWEcYVrSwzAtiTX",
      "include_colab_link": true
    },
    "kernelspec": {
      "name": "python3",
      "display_name": "Python 3"
    },
    "language_info": {
      "name": "python"
    }
  },
  "cells": [
    {
      "cell_type": "markdown",
      "metadata": {
        "id": "view-in-github",
        "colab_type": "text"
      },
      "source": [
        "<a href=\"https://colab.research.google.com/github/monikakote/Numpy/blob/main/Numpy_array_Vs_List.ipynb\" target=\"_parent\"><img src=\"https://colab.research.google.com/assets/colab-badge.svg\" alt=\"Open In Colab\"/></a>"
      ]
    },
    {
      "cell_type": "code",
      "execution_count": null,
      "metadata": {
        "id": "HfTIQLJSY4lC"
      },
      "outputs": [],
      "source": []
    },
    {
      "cell_type": "markdown",
      "source": [
        "# Difference between NumPy Array and list in Python\n",
        "\n",
        "1.Data Type Consistency:\n",
        "Python lists can store different data types in a single list (e.g., integers, strings, floats together), while NumPy arrays are meant to store elements of the same data type, making operations more efficient."
      ],
      "metadata": {
        "id": "45mjOclSZCQu"
      }
    },
    {
      "cell_type": "code",
      "source": [
        "mixed_list = [1, \"hello\", 3.14]\n",
        "print(mixed_list)\n"
      ],
      "metadata": {
        "colab": {
          "base_uri": "https://localhost:8080/"
        },
        "id": "5YEQxEr7ZEAd",
        "outputId": "e0ae1886-85ce-4484-a3fb-e564e27d62c2"
      },
      "execution_count": null,
      "outputs": [
        {
          "output_type": "stream",
          "name": "stdout",
          "text": [
            "[1, 'hello', 3.14]\n"
          ]
        }
      ]
    },
    {
      "cell_type": "markdown",
      "source": [
        "# 2.Importing modules\n",
        "\n",
        "Python Lists:\n",
        "You don’t need to import any external module to use lists. Lists are a built-in data type in Python. You can create and manipulate them directly."
      ],
      "metadata": {
        "id": "6-ZjGzzfbA-3"
      }
    },
    {
      "cell_type": "code",
      "source": [
        "my_list = [1, 2, 3, 4]\n",
        "print(my_list)\n"
      ],
      "metadata": {
        "colab": {
          "base_uri": "https://localhost:8080/"
        },
        "id": "PHN9-aiibH3g",
        "outputId": "185afe43-5e9a-4267-a98c-c83789cb5b48"
      },
      "execution_count": null,
      "outputs": [
        {
          "output_type": "stream",
          "name": "stdout",
          "text": [
            "[1, 2, 3, 4]\n"
          ]
        }
      ]
    },
    {
      "cell_type": "markdown",
      "source": [
        "NumPy Arrays:\n",
        "To use NumPy arrays, you must import the NumPy module first because they are not built into Python's standard library."
      ],
      "metadata": {
        "id": "y5NHzEqubTRY"
      }
    },
    {
      "cell_type": "code",
      "source": [
        "import numpy as np\n",
        "\n",
        "my_array = np.array([1, 2, 3, 4])\n",
        "print(my_array)\n"
      ],
      "metadata": {
        "colab": {
          "base_uri": "https://localhost:8080/"
        },
        "id": "4sHJzduGbVsk",
        "outputId": "5c3f79ad-f761-4f60-be96-c56988b5409e"
      },
      "execution_count": null,
      "outputs": [
        {
          "output_type": "stream",
          "name": "stdout",
          "text": [
            "[1 2 3 4]\n"
          ]
        }
      ]
    },
    {
      "cell_type": "markdown",
      "source": [
        "# 3.Numerical Operations\n",
        "\n",
        "Python Lists:\n",
        "Numerical operations are not supported directly.\n",
        "You must use loops or list comprehensions for operations like addition, multiplication, etc."
      ],
      "metadata": {
        "id": "maIVPed-becX"
      }
    },
    {
      "cell_type": "code",
      "source": [
        "#Python List (needs loop or list comprehension\n",
        "squared_list = [x**2 for x in [1, 2, 3, 4]]\n",
        "print(squared_list)\n"
      ],
      "metadata": {
        "colab": {
          "base_uri": "https://localhost:8080/"
        },
        "id": "wobYlUTybhV-",
        "outputId": "8d6327e1-b4e6-4ede-dd2c-9915c8015d96"
      },
      "execution_count": null,
      "outputs": [
        {
          "output_type": "stream",
          "name": "stdout",
          "text": [
            "[1, 4, 9, 16]\n"
          ]
        }
      ]
    },
    {
      "cell_type": "markdown",
      "source": [
        "NumPy Arrays:\n",
        "\n",
        "Supports element-wise numerical operations directly.\n",
        "Fast and efficient for mathematical calculations like addition, subtraction, multiplication, etc."
      ],
      "metadata": {
        "id": "ClUSyNKtb8dM"
      }
    },
    {
      "cell_type": "code",
      "source": [
        "#NumPy Array (element-wise operation)\n",
        "import numpy as np\n",
        "\n",
        "arr = np.array([1, 2, 3, 4])\n",
        "print(arr**2)\n"
      ],
      "metadata": {
        "colab": {
          "base_uri": "https://localhost:8080/"
        },
        "id": "_PJNh8UwbxkZ",
        "outputId": "531d48b3-03b8-42ed-e674-45b1b9c81f04"
      },
      "execution_count": null,
      "outputs": [
        {
          "output_type": "stream",
          "name": "stdout",
          "text": [
            "[ 1  4  9 16]\n"
          ]
        }
      ]
    },
    {
      "cell_type": "markdown",
      "source": [
        "# 4.Modification Capabilities\n",
        "\n",
        "Python Lists:\n",
        "\n",
        "  Highly flexible and dynamic.\n",
        "  You can easily:\n",
        "  Add or remove elements (append(), insert(), pop(), remove())\n",
        "  Change size freely\n",
        "  Store mixed data types\n",
        "\n",
        "NumPy Arrays:\n",
        "\n",
        "  Fixed size after creation — you can’t change the size directly.\n",
        "  Supports element-wise updates and slicing, but:\n",
        "  Inserting/removing elements requires creating a new array\n",
        "  Only supports same data type for all elements"
      ],
      "metadata": {
        "id": "F8ZQKN4GcEiA"
      }
    },
    {
      "cell_type": "markdown",
      "source": [
        "# 5.Consume Less Memory\n",
        "\n",
        "NumPy arrays: More memory-efficient, especially for large numerical data.\n",
        "\n",
        "Python lists: More memory overhead due to dynamic typing and object references.\n",
        "%timeit [j**4 for j in range(1,9)]\n",
        "806 ns ± 16.6 ns per loop (mean ± std. dev. of 7 runs, 1,000,000 loops each)\n",
        "import numpy as np.\n",
        "\n",
        "%timeit np.arange(1,9)**4\n",
        "1.8 μs ± 95 ns per loop (mean ± std. dev. of 7 runs, 1,000,000 loops each).\n"
      ],
      "metadata": {
        "id": "58fnsyHPcoPG"
      }
    }
  ]
}