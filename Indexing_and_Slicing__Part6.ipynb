{
  "nbformat": 4,
  "nbformat_minor": 0,
  "metadata": {
    "colab": {
      "provenance": [],
      "authorship_tag": "ABX9TyMw1BaUUaIkDKCHmZRUI3pi",
      "include_colab_link": true
    },
    "kernelspec": {
      "name": "python3",
      "display_name": "Python 3"
    },
    "language_info": {
      "name": "python"
    }
  },
  "cells": [
    {
      "cell_type": "markdown",
      "metadata": {
        "id": "view-in-github",
        "colab_type": "text"
      },
      "source": [
        "<a href=\"https://colab.research.google.com/github/monikakote/Numpy/blob/main/Indexing_and_Slicing__Part6.ipynb\" target=\"_parent\"><img src=\"https://colab.research.google.com/assets/colab-badge.svg\" alt=\"Open In Colab\"/></a>"
      ]
    },
    {
      "cell_type": "markdown",
      "source": [
        "# 1 Indexing in NumPy Arrays"
      ],
      "metadata": {
        "id": "IDvfPx-0_FD8"
      }
    },
    {
      "cell_type": "code",
      "source": [
        "import numpy as np\n",
        "\n",
        "# 1D Array\n",
        "arr = np.array([10, 20, 30, 40, 50])\n",
        "\n",
        "print(arr)\n",
        "print(\"Element at index 2:\", arr[2])\n",
        "print(\"Element at index -2:\", arr[-2])\n"
      ],
      "metadata": {
        "colab": {
          "base_uri": "https://localhost:8080/"
        },
        "id": "pSPYPGg-_Sik",
        "outputId": "6ae5f61b-30ed-412d-c67f-47c0db210649"
      },
      "execution_count": 1,
      "outputs": [
        {
          "output_type": "stream",
          "name": "stdout",
          "text": [
            "[10 20 30 40 50]\n",
            "Element at index 2: 30\n",
            "Element at index -2: 40\n"
          ]
        }
      ]
    },
    {
      "cell_type": "markdown",
      "source": [
        "# 2D Indexing (Matrix)"
      ],
      "metadata": {
        "id": "EPxuGkaC_b3j"
      }
    },
    {
      "cell_type": "code",
      "source": [
        "# 2D Array\n",
        "mat = np.array([[5, 10, 15],\n",
        "                [20, 25, 30],\n",
        "                [35, 40, 45]])\n",
        "\n",
        "print(mat)\n",
        "print(\"Shape:\", mat.shape)\n",
        "print(\"Element at row 1, col 2:\", mat[1, 2])\n",
        "print(\"Element at row 2, col 0:\", mat[2, 0])\n"
      ],
      "metadata": {
        "colab": {
          "base_uri": "https://localhost:8080/"
        },
        "id": "22ljzhci_d8I",
        "outputId": "3ea1f852-7a8a-40f8-f2f9-e99349232db2"
      },
      "execution_count": 2,
      "outputs": [
        {
          "output_type": "stream",
          "name": "stdout",
          "text": [
            "[[ 5 10 15]\n",
            " [20 25 30]\n",
            " [35 40 45]]\n",
            "Shape: (3, 3)\n",
            "Element at row 1, col 2: 30\n",
            "Element at row 2, col 0: 35\n"
          ]
        }
      ]
    },
    {
      "cell_type": "markdown",
      "source": [
        "# 3D Indexing"
      ],
      "metadata": {
        "id": "SRIyLoaZ_liG"
      }
    },
    {
      "cell_type": "code",
      "source": [
        "# 3D Array: shape (1, 2, 3)\n",
        "arr3d = np.array([[[100, 200, 300],\n",
        "                   [400, 500, 600]]])\n",
        "\n",
        "print(arr3d)\n",
        "print(\"Dimension:\", arr3d.ndim)\n",
        "print(\"arr3d[0,0,1]:\", arr3d[0,0,1])\n",
        "print(\"arr3d[0,1,2]:\", arr3d[0,1,2])\n"
      ],
      "metadata": {
        "colab": {
          "base_uri": "https://localhost:8080/"
        },
        "id": "6Qo2uyBy_nz2",
        "outputId": "31bdfedb-d16c-43ad-8b27-0b19cc98a79f"
      },
      "execution_count": 3,
      "outputs": [
        {
          "output_type": "stream",
          "name": "stdout",
          "text": [
            "[[[100 200 300]\n",
            "  [400 500 600]]]\n",
            "Dimension: 3\n",
            "arr3d[0,0,1]: 200\n",
            "arr3d[0,1,2]: 600\n"
          ]
        }
      ]
    },
    {
      "cell_type": "markdown",
      "source": [
        "# 2 Slicing in NumPy Arrays"
      ],
      "metadata": {
        "id": "N_cVTqb__vkf"
      }
    },
    {
      "cell_type": "code",
      "source": [
        "a = np.array([5, 10, 15, 20, 25, 30])\n",
        "print(\"Original array:\", a)\n",
        "print(\"From index 2 to 4:\", a[2:5])\n",
        "print(\"From index 3 to end:\", a[3:])\n",
        "print(\"Start to index 3:\", a[:4])\n",
        "print(\"Every second element:\", a[::2])\n",
        "print(\"Reverse array:\", a[::-1])\n"
      ],
      "metadata": {
        "colab": {
          "base_uri": "https://localhost:8080/"
        },
        "id": "_fSGc_Vt_ziD",
        "outputId": "2e68bdb5-b9f2-412d-bf46-9834af999bb3"
      },
      "execution_count": 5,
      "outputs": [
        {
          "output_type": "stream",
          "name": "stdout",
          "text": [
            "Original array: [ 5 10 15 20 25 30]\n",
            "From index 2 to 4: [15 20 25]\n",
            "From index 3 to end: [20 25 30]\n",
            "Start to index 3: [ 5 10 15 20]\n",
            "Every second element: [ 5 15 25]\n",
            "Reverse array: [30 25 20 15 10  5]\n"
          ]
        }
      ]
    },
    {
      "cell_type": "code",
      "source": [
        "b = np.array([[10, 20, 30, 40],\n",
        "              [50, 60, 70, 80],\n",
        "              [90, 100, 110, 120]])\n",
        "\n",
        "print(b)\n",
        "print(\"Second row (index 1):\", b[1])\n",
        "print(\"From 1st row, elements 1 to 3:\", b[0, 1:4])\n",
        "print(\"Rows 1 & 2, first two cols:\\n\", b[1:3, 0:2])\n"
      ],
      "metadata": {
        "colab": {
          "base_uri": "https://localhost:8080/"
        },
        "id": "TZqnZdKo_78X",
        "outputId": "083cf50a-408f-4395-d9eb-4da3428e149a"
      },
      "execution_count": 6,
      "outputs": [
        {
          "output_type": "stream",
          "name": "stdout",
          "text": [
            "[[ 10  20  30  40]\n",
            " [ 50  60  70  80]\n",
            " [ 90 100 110 120]]\n",
            "Second row (index 1): [50 60 70 80]\n",
            "From 1st row, elements 1 to 3: [20 30 40]\n",
            "Rows 1 & 2, first two cols:\n",
            " [[ 50  60]\n",
            " [ 90 100]]\n"
          ]
        }
      ]
    }
  ]
}