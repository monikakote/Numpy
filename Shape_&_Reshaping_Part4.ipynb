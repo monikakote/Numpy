{
  "nbformat": 4,
  "nbformat_minor": 0,
  "metadata": {
    "colab": {
      "provenance": [],
      "authorship_tag": "ABX9TyOt+bypSoG18UCBFcv3HhKP",
      "include_colab_link": true
    },
    "kernelspec": {
      "name": "python3",
      "display_name": "Python 3"
    },
    "language_info": {
      "name": "python"
    }
  },
  "cells": [
    {
      "cell_type": "markdown",
      "metadata": {
        "id": "view-in-github",
        "colab_type": "text"
      },
      "source": [
        "<a href=\"https://colab.research.google.com/github/monikakote/Numpy/blob/main/Shape_%26_Reshaping_Part4.ipynb\" target=\"_parent\"><img src=\"https://colab.research.google.com/assets/colab-badge.svg\" alt=\"Open In Colab\"/></a>"
      ]
    },
    {
      "cell_type": "markdown",
      "source": [
        "# Shape & Reshaping in NumPy Arrays"
      ],
      "metadata": {
        "id": "zvx_br9J7gIE"
      }
    },
    {
      "cell_type": "markdown",
      "source": [
        "# Shape"
      ],
      "metadata": {
        "id": "WFRlt6hQJfgq"
      }
    },
    {
      "cell_type": "code",
      "source": [
        "import numpy as np\n",
        "\n",
        "arr = np.array([[10, 20, 30], [40, 50, 60], [70, 80, 90]])\n",
        "print(\"Original Array:\")\n",
        "print(arr)\n",
        "print()\n",
        "print(\"Shape of arr:\", arr.shape)\n",
        "print(\"Dimension:\", arr.ndim)\n"
      ],
      "metadata": {
        "id": "ifNc7VNVJ3vz",
        "colab": {
          "base_uri": "https://localhost:8080/"
        },
        "outputId": "885bd977-6984-48c5-d37c-4c44d044e680"
      },
      "execution_count": 1,
      "outputs": [
        {
          "output_type": "stream",
          "name": "stdout",
          "text": [
            "Original Array:\n",
            "[[10 20 30]\n",
            " [40 50 60]\n",
            " [70 80 90]]\n",
            "\n",
            "Shape of arr: (3, 3)\n",
            "Dimension: 2\n"
          ]
        }
      ]
    },
    {
      "cell_type": "markdown",
      "source": [
        "# Reshape"
      ],
      "metadata": {
        "id": "GzS53fAy7RCR"
      }
    },
    {
      "cell_type": "code",
      "source": [
        "\n",
        "data = np.array([100, 200, 300, 400, 500, 600])\n",
        "print(\"Original 1D Array:\")\n",
        "print(data)\n",
        "print(\"Dimension:\", data.ndim)\n",
        "print()\n",
        "\n",
        "reshaped_2d = data.reshape(3, 2)\n",
        "print(\"Reshaped to 2D (3x2):\")\n",
        "print(reshaped_2d)\n",
        "print(\"Dimension:\", reshaped_2d.ndim)\n",
        "print()\n",
        "\n",
        "reshaped_3d = data.reshape(1, 3, 2)\n",
        "print(\"Reshaped to 3D (1x3x2):\")\n",
        "print(reshaped_3d)\n",
        "print(\"Dimension:\", reshaped_3d.ndim)\n",
        "print()\n",
        "\n",
        "flattened = reshaped_3d.reshape(-1)\n",
        "print(\"Flattened back to 1D:\")\n",
        "print(flattened)\n",
        "print(\"Dimension:\", flattened.ndim)\n"
      ],
      "metadata": {
        "colab": {
          "base_uri": "https://localhost:8080/"
        },
        "id": "v-FfkRz47WaM",
        "outputId": "6ee912f9-f549-4e55-8f6f-52da853fb555"
      },
      "execution_count": 2,
      "outputs": [
        {
          "output_type": "stream",
          "name": "stdout",
          "text": [
            "Original 1D Array:\n",
            "[100 200 300 400 500 600]\n",
            "Dimension: 1\n",
            "\n",
            "Reshaped to 2D (3x2):\n",
            "[[100 200]\n",
            " [300 400]\n",
            " [500 600]]\n",
            "Dimension: 2\n",
            "\n",
            "Reshaped to 3D (1x3x2):\n",
            "[[[100 200]\n",
            "  [300 400]\n",
            "  [500 600]]]\n",
            "Dimension: 3\n",
            "\n",
            "Flattened back to 1D:\n",
            "[100 200 300 400 500 600]\n",
            "Dimension: 1\n"
          ]
        }
      ]
    }
  ]
}