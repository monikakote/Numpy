{
  "nbformat": 4,
  "nbformat_minor": 0,
  "metadata": {
    "colab": {
      "provenance": [],
      "authorship_tag": "ABX9TyOvwu33mK14hkfeOwf+FjnT",
      "include_colab_link": true
    },
    "kernelspec": {
      "name": "python3",
      "display_name": "Python 3"
    },
    "language_info": {
      "name": "python"
    }
  },
  "cells": [
    {
      "cell_type": "markdown",
      "metadata": {
        "id": "view-in-github",
        "colab_type": "text"
      },
      "source": [
        "<a href=\"https://colab.research.google.com/github/monikakote/Numpy/blob/main/Part_11.ipynb\" target=\"_parent\"><img src=\"https://colab.research.google.com/assets/colab-badge.svg\" alt=\"Open In Colab\"/></a>"
      ]
    },
    {
      "cell_type": "markdown",
      "source": [
        "# Functions In NumPy"
      ],
      "metadata": {
        "id": "vHJ4lnp490vY"
      }
    },
    {
      "cell_type": "markdown",
      "source": [
        "# Arithmetic Functions\n",
        "\n",
        "Shuffle\n",
        "\n",
        "Unique\n",
        "\n",
        "Resize\n",
        "\n",
        "Flatten\n",
        "\n",
        "Ravel"
      ],
      "metadata": {
        "id": "MH0RAItc924d"
      }
    },
    {
      "cell_type": "markdown",
      "source": [
        "# Shuffle"
      ],
      "metadata": {
        "id": "kA-P14Fw98LB"
      }
    },
    {
      "cell_type": "code",
      "execution_count": 1,
      "metadata": {
        "colab": {
          "base_uri": "https://localhost:8080/"
        },
        "id": "MJLPt_KR9t70",
        "outputId": "14ea8086-2c0e-4a19-d265-b7b3fd756aee"
      },
      "outputs": [
        {
          "output_type": "stream",
          "name": "stdout",
          "text": [
            "Before Shuffling :-  [10 20 30 40 50]\n",
            "After Shuffling :-  [10 40 30 20 50]\n"
          ]
        }
      ],
      "source": [
        "import numpy as np\n",
        "arr = np.array([10, 20, 30, 40, 50])\n",
        "print('Before Shuffling :- ', arr)\n",
        "np.random.shuffle(arr)\n",
        "print('After Shuffling :- ', arr)\n"
      ]
    },
    {
      "cell_type": "markdown",
      "source": [
        "# Unique"
      ],
      "metadata": {
        "id": "T1MOjUfT-LJQ"
      }
    },
    {
      "cell_type": "code",
      "source": [
        "arr1 = np.array([3, 6, 3, 2, 9, 6, 1])\n",
        "print('arr1 :- ', arr1)\n",
        "x = np.unique(arr1)\n",
        "y = np.unique(arr1, return_index=True, return_counts=True)\n",
        "print('Unique values :- ', x)\n",
        "print('Index values :- \\n', y)\n"
      ],
      "metadata": {
        "colab": {
          "base_uri": "https://localhost:8080/"
        },
        "id": "OtWWur80-Mg6",
        "outputId": "cc6689ea-541a-4601-99af-280fbfb056e3"
      },
      "execution_count": 2,
      "outputs": [
        {
          "output_type": "stream",
          "name": "stdout",
          "text": [
            "arr1 :-  [3 6 3 2 9 6 1]\n",
            "Unique values :-  [1 2 3 6 9]\n",
            "Index values :- \n",
            " (array([1, 2, 3, 6, 9]), array([6, 3, 0, 1, 4]), array([1, 1, 2, 2, 1]))\n"
          ]
        }
      ]
    },
    {
      "cell_type": "markdown",
      "source": [
        "# Resize"
      ],
      "metadata": {
        "id": "3bqQ6vhW-QCz"
      }
    },
    {
      "cell_type": "code",
      "source": [
        "arr2 = np.array([11, 22, 33, 44])\n",
        "print('Before', arr2)\n",
        "z = np.resize(arr2, (2, 2))\n",
        "print('resize\\n', z)\n"
      ],
      "metadata": {
        "colab": {
          "base_uri": "https://localhost:8080/"
        },
        "id": "efudo-Et-R0h",
        "outputId": "9f339d5d-95ad-406a-ce8e-713cd81ce9be"
      },
      "execution_count": 3,
      "outputs": [
        {
          "output_type": "stream",
          "name": "stdout",
          "text": [
            "Before [11 22 33 44]\n",
            "resize\n",
            " [[11 22]\n",
            " [33 44]]\n"
          ]
        }
      ]
    },
    {
      "cell_type": "markdown",
      "source": [
        "# Flatten and Ravel\n",
        "\n",
        "Converts 2-D array into 1-D array\n",
        "\n",
        "order : {'C','F','A','K'},Optional\n",
        "\n",
        "'C' means to flatten in row-major (C-style) order\n",
        "\n",
        "'F' means to flatten in column-major(Fortan-style)order\n",
        "\n",
        "'A' means to flatten in column-major order if 'a' is Fortan contiguous in memory ,row-major order otherwise\n",
        "\n",
        "'K' means to flatten 'a' in the order the elements occur in memory\n",
        "The default is 'C'"
      ],
      "metadata": {
        "id": "Agy-z8XM-UZU"
      }
    },
    {
      "cell_type": "code",
      "source": [
        "arr3 = np.array([[9, 8], [7, 6], [5, 4]])\n",
        "print('Output of arr3\\n', arr3)\n",
        "print()\n",
        "print('Flatten output:-', arr3.flatten())\n",
        "print()\n",
        "print('Flatten order output:-', arr3.flatten(order='F'))\n",
        "print()\n",
        "print('Ravel', np.ravel(arr3, order='F'))\n"
      ],
      "metadata": {
        "colab": {
          "base_uri": "https://localhost:8080/"
        },
        "id": "Lfr_ITqf-dl-",
        "outputId": "315d5409-8c31-4722-9e78-9a19e5695d7d"
      },
      "execution_count": 4,
      "outputs": [
        {
          "output_type": "stream",
          "name": "stdout",
          "text": [
            "Output of arr3\n",
            " [[9 8]\n",
            " [7 6]\n",
            " [5 4]]\n",
            "\n",
            "Flatten output:- [9 8 7 6 5 4]\n",
            "\n",
            "Flatten order output:- [9 7 5 8 6 4]\n",
            "\n",
            "Ravel [9 7 5 8 6 4]\n"
          ]
        }
      ]
    },
    {
      "cell_type": "markdown",
      "source": [
        "# Insert and Delete Functions"
      ],
      "metadata": {
        "id": "fsXkWjdO-hpS"
      }
    },
    {
      "cell_type": "markdown",
      "source": [
        "# Insert"
      ],
      "metadata": {
        "id": "RCRHD9SN-iyp"
      }
    },
    {
      "cell_type": "code",
      "source": [
        "arr4 = np.array([9, 8, 7, 6])\n",
        "print('arr4:- ', arr4)\n",
        "i = np.insert(arr4, (1, 3), 99)\n",
        "print(i)\n",
        "\n",
        "arr5 = np.array([[5, 10, 15], [20, 25, 30]])\n",
        "i1 = np.insert(arr5, 1, 50, axis=1)\n",
        "i2 = np.insert(arr5, 1, 60, axis=0)\n",
        "i3 = np.insert(arr5, 1, [70, 80], axis=1)\n",
        "print('i1 \\n', i1)\n",
        "print()\n",
        "print('i2 \\n', i2)\n",
        "print()\n",
        "print('i3 \\n', i3)\n"
      ],
      "metadata": {
        "colab": {
          "base_uri": "https://localhost:8080/"
        },
        "id": "ZyMqtYYF-mhP",
        "outputId": "43a7d65c-3b09-4af3-cc33-1bf38d444f04"
      },
      "execution_count": 5,
      "outputs": [
        {
          "output_type": "stream",
          "name": "stdout",
          "text": [
            "arr4:-  [9 8 7 6]\n",
            "[ 9 99  8  7 99  6]\n",
            "i1 \n",
            " [[ 5 50 10 15]\n",
            " [20 50 25 30]]\n",
            "\n",
            "i2 \n",
            " [[ 5 10 15]\n",
            " [60 60 60]\n",
            " [20 25 30]]\n",
            "\n",
            "i3 \n",
            " [[ 5 70 10 15]\n",
            " [20 80 25 30]]\n"
          ]
        }
      ]
    },
    {
      "cell_type": "markdown",
      "source": [
        "# Append"
      ],
      "metadata": {
        "id": "YRrrzbMT-qy6"
      }
    },
    {
      "cell_type": "code",
      "source": [
        "arr6 = np.array([[2, 4, 6], [8, 10, 12]])\n",
        "print('arr \\n', arr6)\n",
        "print('\\nInserted \\n')\n",
        "x = np.append(arr6, [[14, 16, 18]], axis=0)\n",
        "print(x)\n"
      ],
      "metadata": {
        "colab": {
          "base_uri": "https://localhost:8080/"
        },
        "id": "1YzgJ1RN-sFA",
        "outputId": "235c034b-555e-49da-bf0b-72524c33e345"
      },
      "execution_count": 6,
      "outputs": [
        {
          "output_type": "stream",
          "name": "stdout",
          "text": [
            "arr \n",
            " [[ 2  4  6]\n",
            " [ 8 10 12]]\n",
            "\n",
            "Inserted \n",
            "\n",
            "[[ 2  4  6]\n",
            " [ 8 10 12]\n",
            " [14 16 18]]\n"
          ]
        }
      ]
    },
    {
      "cell_type": "markdown",
      "source": [
        "# Delete"
      ],
      "metadata": {
        "id": "txpnQnj_-ui7"
      }
    },
    {
      "cell_type": "code",
      "source": [
        "arr7 = np.array([100, 200, 300, 400, 500])\n",
        "print('arr:- ', arr7)\n",
        "d = np.delete(arr7, 3)\n",
        "print('After deleting:- ', d)\n"
      ],
      "metadata": {
        "colab": {
          "base_uri": "https://localhost:8080/"
        },
        "id": "rE11VWon-xGi",
        "outputId": "c567ed9d-a469-4f5a-ca73-163b8fde968c"
      },
      "execution_count": 7,
      "outputs": [
        {
          "output_type": "stream",
          "name": "stdout",
          "text": [
            "arr:-  [100 200 300 400 500]\n",
            "After deleting:-  [100 200 300 500]\n"
          ]
        }
      ]
    }
  ]
}