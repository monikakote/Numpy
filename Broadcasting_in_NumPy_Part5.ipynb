{
  "nbformat": 4,
  "nbformat_minor": 0,
  "metadata": {
    "colab": {
      "provenance": [],
      "authorship_tag": "ABX9TyMPkisXeRL9U9ZfCDERZuNG",
      "include_colab_link": true
    },
    "kernelspec": {
      "name": "python3",
      "display_name": "Python 3"
    },
    "language_info": {
      "name": "python"
    }
  },
  "cells": [
    {
      "cell_type": "markdown",
      "metadata": {
        "id": "view-in-github",
        "colab_type": "text"
      },
      "source": [
        "<a href=\"https://colab.research.google.com/github/monikakote/Numpy/blob/main/Broadcasting_in_NumPy_Part5.ipynb\" target=\"_parent\"><img src=\"https://colab.research.google.com/assets/colab-badge.svg\" alt=\"Open In Colab\"/></a>"
      ]
    },
    {
      "cell_type": "markdown",
      "source": [
        "# Broadcasting in NumPy"
      ],
      "metadata": {
        "id": "5jjK2NfM8fVk"
      }
    },
    {
      "cell_type": "markdown",
      "source": [
        "# Broadcasting Rules Recap\n",
        "\n",
        "Two arrays can be broadcast together if:\n",
        "\n",
        "Their dimensions are equal or\n",
        "\n",
        "One of them is 1 in that dimension"
      ],
      "metadata": {
        "id": "CDskjI3G8lZV"
      }
    },
    {
      "cell_type": "markdown",
      "source": [
        "# All Key Broadcasting Cases with Examples"
      ],
      "metadata": {
        "id": "NwQSORss8wV6"
      }
    },
    {
      "cell_type": "markdown",
      "source": [
        "# 1. Scalar with array\n",
        "\n",
        "A scalar is broadcasted to match any array."
      ],
      "metadata": {
        "id": "tLqTSQWq8zrC"
      }
    },
    {
      "cell_type": "code",
      "source": [
        "import numpy as np\n",
        "a = np.array([1, 2, 3])\n",
        "b = 10\n",
        "print(\"a + b =\", a + b)\n"
      ],
      "metadata": {
        "colab": {
          "base_uri": "https://localhost:8080/"
        },
        "id": "YWWQyH7V811Y",
        "outputId": "97a0559d-3944-4f51-c25c-9461ed89ca61"
      },
      "execution_count": 1,
      "outputs": [
        {
          "output_type": "stream",
          "name": "stdout",
          "text": [
            "a + b = [11 12 13]\n"
          ]
        }
      ]
    },
    {
      "cell_type": "markdown",
      "source": [
        "# 2. Same 1D shape arrays"
      ],
      "metadata": {
        "id": "QuK1SEjb8717"
      }
    },
    {
      "cell_type": "code",
      "source": [
        "a = np.array([1, 2, 3])\n",
        "b = np.array([10, 20, 30])\n",
        "print(\"a + b =\", a + b)\n"
      ],
      "metadata": {
        "colab": {
          "base_uri": "https://localhost:8080/"
        },
        "id": "JOS3iRNa89XW",
        "outputId": "0f77a6d5-2816-4bd9-bb36-8ba963b6c7f3"
      },
      "execution_count": 2,
      "outputs": [
        {
          "output_type": "stream",
          "name": "stdout",
          "text": [
            "a + b = [11 22 33]\n"
          ]
        }
      ]
    },
    {
      "cell_type": "markdown",
      "source": [
        "# 3. Mismatched 1D arrays"
      ],
      "metadata": {
        "id": "pZYyomX29BfP"
      }
    },
    {
      "cell_type": "code",
      "source": [
        "a = np.array([1, 2, 3, 4])\n",
        "b = np.array([10, 20, 30])\n",
        "print(\"a + b =\", a + b)  # Error\n"
      ],
      "metadata": {
        "colab": {
          "base_uri": "https://localhost:8080/",
          "height": 176
        },
        "id": "LQkUW_oB9C3W",
        "outputId": "e88124fe-e482-4b81-a1fd-64cdea309015"
      },
      "execution_count": 3,
      "outputs": [
        {
          "output_type": "error",
          "ename": "ValueError",
          "evalue": "operands could not be broadcast together with shapes (4,) (3,) ",
          "traceback": [
            "\u001b[0;31m---------------------------------------------------------------------------\u001b[0m",
            "\u001b[0;31mValueError\u001b[0m                                Traceback (most recent call last)",
            "\u001b[0;32m<ipython-input-3-1544690902>\u001b[0m in \u001b[0;36m<cell line: 0>\u001b[0;34m()\u001b[0m\n\u001b[1;32m      1\u001b[0m \u001b[0ma\u001b[0m \u001b[0;34m=\u001b[0m \u001b[0mnp\u001b[0m\u001b[0;34m.\u001b[0m\u001b[0marray\u001b[0m\u001b[0;34m(\u001b[0m\u001b[0;34m[\u001b[0m\u001b[0;36m1\u001b[0m\u001b[0;34m,\u001b[0m \u001b[0;36m2\u001b[0m\u001b[0;34m,\u001b[0m \u001b[0;36m3\u001b[0m\u001b[0;34m,\u001b[0m \u001b[0;36m4\u001b[0m\u001b[0;34m]\u001b[0m\u001b[0;34m)\u001b[0m\u001b[0;34m\u001b[0m\u001b[0;34m\u001b[0m\u001b[0m\n\u001b[1;32m      2\u001b[0m \u001b[0mb\u001b[0m \u001b[0;34m=\u001b[0m \u001b[0mnp\u001b[0m\u001b[0;34m.\u001b[0m\u001b[0marray\u001b[0m\u001b[0;34m(\u001b[0m\u001b[0;34m[\u001b[0m\u001b[0;36m10\u001b[0m\u001b[0;34m,\u001b[0m \u001b[0;36m20\u001b[0m\u001b[0;34m,\u001b[0m \u001b[0;36m30\u001b[0m\u001b[0;34m]\u001b[0m\u001b[0;34m)\u001b[0m\u001b[0;34m\u001b[0m\u001b[0;34m\u001b[0m\u001b[0m\n\u001b[0;32m----> 3\u001b[0;31m \u001b[0mprint\u001b[0m\u001b[0;34m(\u001b[0m\u001b[0;34m\"a + b =\"\u001b[0m\u001b[0;34m,\u001b[0m \u001b[0ma\u001b[0m \u001b[0;34m+\u001b[0m \u001b[0mb\u001b[0m\u001b[0;34m)\u001b[0m  \u001b[0;31m# Error\u001b[0m\u001b[0;34m\u001b[0m\u001b[0;34m\u001b[0m\u001b[0m\n\u001b[0m",
            "\u001b[0;31mValueError\u001b[0m: operands could not be broadcast together with shapes (4,) (3,) "
          ]
        }
      ]
    },
    {
      "cell_type": "code",
      "source": [
        "import numpy as np\n",
        "\n",
        "# Array with shape (3,1)\n",
        "a = np.array([[10], [20], [30]])\n",
        "print(\"a:\\n\", a)\n",
        "print(\"Shape of a:\", a.shape)\n",
        "print()\n",
        "\n",
        "# Array with shape (1,4)\n",
        "b = np.array([[1, 2, 3, 4]])\n",
        "print(\"b:\\n\", b)\n",
        "print(\"Shape of b:\", b.shape)\n",
        "print()\n",
        "\n",
        "# Broadcasting addition\n",
        "result = a + b\n",
        "print(\"a + b:\\n\", result)\n",
        "print(\"Shape of result:\", result.shape)\n"
      ],
      "metadata": {
        "id": "iUnJVdew9Kdy",
        "outputId": "bf09299d-89a1-45ff-949c-445087ee7b77",
        "colab": {
          "base_uri": "https://localhost:8080/"
        }
      },
      "execution_count": 4,
      "outputs": [
        {
          "output_type": "stream",
          "name": "stdout",
          "text": [
            "a:\n",
            " [[10]\n",
            " [20]\n",
            " [30]]\n",
            "Shape of a: (3, 1)\n",
            "\n",
            "b:\n",
            " [[1 2 3 4]]\n",
            "Shape of b: (1, 4)\n",
            "\n",
            "a + b:\n",
            " [[11 12 13 14]\n",
            " [21 22 23 24]\n",
            " [31 32 33 34]]\n",
            "Shape of result: (3, 4)\n"
          ]
        }
      ]
    }
  ]
}