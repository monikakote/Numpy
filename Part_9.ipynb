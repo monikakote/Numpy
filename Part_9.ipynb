{
  "nbformat": 4,
  "nbformat_minor": 0,
  "metadata": {
    "colab": {
      "provenance": [],
      "authorship_tag": "ABX9TyNGPMEKm1m5oJf+WQvJscVc",
      "include_colab_link": true
    },
    "kernelspec": {
      "name": "python3",
      "display_name": "Python 3"
    },
    "language_info": {
      "name": "python"
    }
  },
  "cells": [
    {
      "cell_type": "markdown",
      "metadata": {
        "id": "view-in-github",
        "colab_type": "text"
      },
      "source": [
        "<a href=\"https://colab.research.google.com/github/monikakote/Numpy/blob/main/Part_9.ipynb\" target=\"_parent\"><img src=\"https://colab.research.google.com/assets/colab-badge.svg\" alt=\"Open In Colab\"/></a>"
      ]
    },
    {
      "cell_type": "markdown",
      "source": [
        "# Join and Split Functions in Numpy Array"
      ],
      "metadata": {
        "id": "x582l-5-ul3Q"
      }
    },
    {
      "cell_type": "markdown",
      "source": [
        "Join Array :- Joining means putting contents of two or more arrays in a single array\n",
        "\n",
        "# Join array"
      ],
      "metadata": {
        "id": "llXKwxWwuqSR"
      }
    },
    {
      "cell_type": "markdown",
      "source": [
        "# Concatenate function"
      ],
      "metadata": {
        "id": "bO6Yt-uDuu-s"
      }
    },
    {
      "cell_type": "code",
      "execution_count": 1,
      "metadata": {
        "colab": {
          "base_uri": "https://localhost:8080/"
        },
        "id": "2PpJqLFHulLU",
        "outputId": "1cd2204a-5f06-4591-e4af-ea2c8ce1dacf"
      },
      "outputs": [
        {
          "output_type": "stream",
          "name": "stdout",
          "text": [
            "Concatenate :- [10 20 30 40 50 60]\n"
          ]
        }
      ],
      "source": [
        "import numpy as np\n",
        "\n",
        "arr1 = np.array([10, 20, 30])\n",
        "arr2 = np.array([40, 50, 60])\n",
        "\n",
        "# concatenate function\n",
        "result = np.concatenate((arr1, arr2))\n",
        "print('Concatenate :-', result)\n"
      ]
    },
    {
      "cell_type": "markdown",
      "source": [
        "# Stack Function"
      ],
      "metadata": {
        "id": "BxMGUtxbvInK"
      }
    },
    {
      "cell_type": "code",
      "source": [
        "arr3 = np.array([100, 200, 300])\n",
        "arr4 = np.array([400, 500, 600])\n",
        "\n",
        "# Stack in different ways\n",
        "stacked = np.stack((arr3, arr4), axis=1)\n",
        "hstacked = np.hstack((arr3, arr4))  # horizontal\n",
        "vstacked = np.vstack((arr3, arr4))  # vertical\n",
        "dstacked = np.dstack((arr3, arr4))  # depth\n",
        "\n",
        "print('Stack:\\n', stacked)\n",
        "print('\\nHorizontal Stack:\\n', hstacked)\n",
        "print('\\nVertical Stack:\\n', vstacked)\n",
        "print('\\nDepth Stack:\\n', dstacked)\n"
      ],
      "metadata": {
        "colab": {
          "base_uri": "https://localhost:8080/"
        },
        "id": "WUdJdYhevLSf",
        "outputId": "749c3c1c-f920-4d9e-d44e-094432e6bb08"
      },
      "execution_count": 2,
      "outputs": [
        {
          "output_type": "stream",
          "name": "stdout",
          "text": [
            "Stack:\n",
            " [[100 400]\n",
            " [200 500]\n",
            " [300 600]]\n",
            "\n",
            "Horizontal Stack:\n",
            " [100 200 300 400 500 600]\n",
            "\n",
            "Vertical Stack:\n",
            " [[100 200 300]\n",
            " [400 500 600]]\n",
            "\n",
            "Depth Stack:\n",
            " [[[100 400]\n",
            "  [200 500]\n",
            "  [300 600]]]\n"
          ]
        }
      ]
    },
    {
      "cell_type": "markdown",
      "source": [
        "# Split Array\n",
        "\n",
        "Split Array :- Splitting breaks one array into multiple"
      ],
      "metadata": {
        "id": "Sp2eAXBVvwdc"
      }
    },
    {
      "cell_type": "markdown",
      "source": [
        "# Split 1-D Array"
      ],
      "metadata": {
        "id": "lca2SXRvv60L"
      }
    },
    {
      "cell_type": "code",
      "source": [
        "import numpy as np\n",
        "\n",
        "arr = np.array([11, 22, 33, 44, 55, 66])\n",
        "print('arr\\n', arr)\n",
        "\n",
        "split_arr = np.array_split(arr, 3)\n",
        "\n",
        "print('\\nSplit Array\\n', split_arr)\n",
        "print('\\n1st Split Array:-', split_arr[0])\n",
        "print('\\nType of Result:', type(split_arr))\n"
      ],
      "metadata": {
        "colab": {
          "base_uri": "https://localhost:8080/"
        },
        "id": "Dbjpcqhqv1FN",
        "outputId": "2e8e5b77-8e0a-4a10-bb83-3d382bec7101"
      },
      "execution_count": 3,
      "outputs": [
        {
          "output_type": "stream",
          "name": "stdout",
          "text": [
            "arr\n",
            " [11 22 33 44 55 66]\n",
            "\n",
            "Split Array\n",
            " [array([11, 22]), array([33, 44]), array([55, 66])]\n",
            "\n",
            "1st Split Array:- [11 22]\n",
            "\n",
            "Type of Result: <class 'list'>\n"
          ]
        }
      ]
    },
    {
      "cell_type": "markdown",
      "source": [
        "# Split 2-D Array"
      ],
      "metadata": {
        "id": "qSuVIoKhv_PR"
      }
    },
    {
      "cell_type": "code",
      "source": [
        "arr2d = np.array([[1, 3], [5, 7], [9, 11]])\n",
        "print('arr2d\\n', arr2d)\n",
        "\n",
        "split_rows = np.array_split(arr2d, 2)\n",
        "split_columns = np.array_split(arr2d, 2, axis=1)\n",
        "\n",
        "print('\\nSplit by Rows:\\n', split_rows)\n",
        "print('\\nSplit by Columns:\\n', split_columns)\n",
        "print('\\nType of Result:', type(split_rows))\n"
      ],
      "metadata": {
        "colab": {
          "base_uri": "https://localhost:8080/"
        },
        "id": "-ubWWnzewDgR",
        "outputId": "076dedbf-d559-438b-b726-47aafcdb9290"
      },
      "execution_count": 4,
      "outputs": [
        {
          "output_type": "stream",
          "name": "stdout",
          "text": [
            "arr2d\n",
            " [[ 1  3]\n",
            " [ 5  7]\n",
            " [ 9 11]]\n",
            "\n",
            "Split by Rows:\n",
            " [array([[1, 3],\n",
            "       [5, 7]]), array([[ 9, 11]])]\n",
            "\n",
            "Split by Columns:\n",
            " [array([[1],\n",
            "       [5],\n",
            "       [9]]), array([[ 3],\n",
            "       [ 7],\n",
            "       [11]])]\n",
            "\n",
            "Type of Result: <class 'list'>\n"
          ]
        }
      ]
    }
  ]
}