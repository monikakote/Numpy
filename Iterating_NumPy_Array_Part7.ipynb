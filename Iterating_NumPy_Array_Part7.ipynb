{
  "nbformat": 4,
  "nbformat_minor": 0,
  "metadata": {
    "colab": {
      "provenance": [],
      "authorship_tag": "ABX9TyMjsWfb/VTvs4qQDh7KMenB",
      "include_colab_link": true
    },
    "kernelspec": {
      "name": "python3",
      "display_name": "Python 3"
    },
    "language_info": {
      "name": "python"
    }
  },
  "cells": [
    {
      "cell_type": "markdown",
      "metadata": {
        "id": "view-in-github",
        "colab_type": "text"
      },
      "source": [
        "<a href=\"https://colab.research.google.com/github/monikakote/Numpy/blob/main/Iterating_NumPy_Array_Part7.ipynb\" target=\"_parent\"><img src=\"https://colab.research.google.com/assets/colab-badge.svg\" alt=\"Open In Colab\"/></a>"
      ]
    },
    {
      "cell_type": "markdown",
      "source": [
        "# Iterating NumPy Array"
      ],
      "metadata": {
        "id": "CGHUJFEisnzv"
      }
    },
    {
      "cell_type": "markdown",
      "source": [
        "# 1-D Array"
      ],
      "metadata": {
        "id": "ewVvInPhs2Lu"
      }
    },
    {
      "cell_type": "code",
      "execution_count": 1,
      "metadata": {
        "colab": {
          "base_uri": "https://localhost:8080/"
        },
        "id": "eTwlimcPsivI",
        "outputId": "b6537c1b-6a59-419d-9880-4458ac173b8a"
      },
      "outputs": [
        {
          "output_type": "stream",
          "name": "stdout",
          "text": [
            "1-D Array:\n",
            "[10 20 30 40]\n",
            "\n",
            "Iterating 1-D Array:\n",
            "10\n",
            "20\n",
            "30\n",
            "40\n"
          ]
        }
      ],
      "source": [
        "import numpy as np\n",
        "\n",
        "arr1D = np.array([10, 20, 30, 40])\n",
        "print(\"1-D Array:\")\n",
        "print(arr1D)\n",
        "print(\"\\nIterating 1-D Array:\")\n",
        "for value in arr1D:\n",
        "    print(value)\n"
      ]
    },
    {
      "cell_type": "markdown",
      "source": [
        "# 2-D Array Iteration"
      ],
      "metadata": {
        "id": "u2z5roaHtDAk"
      }
    },
    {
      "cell_type": "code",
      "source": [
        "arr2D = np.array([[11, 12, 13], [21, 22, 23]])\n",
        "print(\"2-D Array:\")\n",
        "print(arr2D)\n",
        "\n",
        "print(\"\\nRow-wise Iteration:\")\n",
        "for row in arr2D:\n",
        "    print(row)\n",
        "\n",
        "print(\"\\nElement-wise Iteration:\")\n",
        "for row in arr2D:\n",
        "    for item in row:\n",
        "        print(item)\n"
      ],
      "metadata": {
        "colab": {
          "base_uri": "https://localhost:8080/"
        },
        "id": "-iBr5wEotEWm",
        "outputId": "2ee4ef7e-83ee-4626-b116-7b64c516b554"
      },
      "execution_count": 2,
      "outputs": [
        {
          "output_type": "stream",
          "name": "stdout",
          "text": [
            "2-D Array:\n",
            "[[11 12 13]\n",
            " [21 22 23]]\n",
            "\n",
            "Row-wise Iteration:\n",
            "[11 12 13]\n",
            "[21 22 23]\n",
            "\n",
            "Element-wise Iteration:\n",
            "11\n",
            "12\n",
            "13\n",
            "21\n",
            "22\n",
            "23\n"
          ]
        }
      ]
    },
    {
      "cell_type": "markdown",
      "source": [
        "# 3-D Array Iteration"
      ],
      "metadata": {
        "id": "RpWzs3optJTL"
      }
    },
    {
      "cell_type": "code",
      "source": [
        "arr3D = np.array([[[101, 102], [103, 104]], [[201, 202], [203, 204]]])\n",
        "print(\"3-D Array:\")\n",
        "print(arr3D)\n",
        "\n",
        "print(\"\\nMatrix-wise Iteration:\")\n",
        "for matrix in arr3D:\n",
        "    for row in matrix:\n",
        "        print(row)\n",
        "\n",
        "print(\"\\nElement-wise Iteration using np.nditer:\")\n",
        "for value in np.nditer(arr3D):\n",
        "    print(value)\n",
        "\n",
        "print(\"\\nUsing ndenumerate (with index):\")\n",
        "for index, value in np.ndenumerate(arr3D):\n",
        "    print(index, value)\n"
      ],
      "metadata": {
        "colab": {
          "base_uri": "https://localhost:8080/"
        },
        "id": "0TqBuNMetLhB",
        "outputId": "be4648e1-0cd6-45e9-ff78-718c6fe55b49"
      },
      "execution_count": 3,
      "outputs": [
        {
          "output_type": "stream",
          "name": "stdout",
          "text": [
            "3-D Array:\n",
            "[[[101 102]\n",
            "  [103 104]]\n",
            "\n",
            " [[201 202]\n",
            "  [203 204]]]\n",
            "\n",
            "Matrix-wise Iteration:\n",
            "[101 102]\n",
            "[103 104]\n",
            "[201 202]\n",
            "[203 204]\n",
            "\n",
            "Element-wise Iteration using np.nditer:\n",
            "101\n",
            "102\n",
            "103\n",
            "104\n",
            "201\n",
            "202\n",
            "203\n",
            "204\n",
            "\n",
            "Using ndenumerate (with index):\n",
            "(0, 0, 0) 101\n",
            "(0, 0, 1) 102\n",
            "(0, 1, 0) 103\n",
            "(0, 1, 1) 104\n",
            "(1, 0, 0) 201\n",
            "(1, 0, 1) 202\n",
            "(1, 1, 0) 203\n",
            "(1, 1, 1) 204\n"
          ]
        }
      ]
    }
  ]
}