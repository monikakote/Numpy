{
  "nbformat": 4,
  "nbformat_minor": 0,
  "metadata": {
    "colab": {
      "provenance": [],
      "authorship_tag": "ABX9TyPEklE0DiJqXOBphFU/HPps",
      "include_colab_link": true
    },
    "kernelspec": {
      "name": "python3",
      "display_name": "Python 3"
    },
    "language_info": {
      "name": "python"
    }
  },
  "cells": [
    {
      "cell_type": "markdown",
      "metadata": {
        "id": "view-in-github",
        "colab_type": "text"
      },
      "source": [
        "<a href=\"https://colab.research.google.com/github/monikakote/Numpy/blob/main/Part_10.ipynb\" target=\"_parent\"><img src=\"https://colab.research.google.com/assets/colab-badge.svg\" alt=\"Open In Colab\"/></a>"
      ]
    },
    {
      "cell_type": "markdown",
      "source": [
        "# Search , Sort , Search Sorted , Filter\n",
        "\n",
        "Search Array:- Search an array for a certain value, and return the indexes that get a match"
      ],
      "metadata": {
        "id": "P4hZlA1I8qF8"
      }
    },
    {
      "cell_type": "markdown",
      "source": [
        "# search"
      ],
      "metadata": {
        "id": "5hxqBoNU8unT"
      }
    },
    {
      "cell_type": "code",
      "execution_count": 1,
      "metadata": {
        "colab": {
          "base_uri": "https://localhost:8080/"
        },
        "id": "Gc4Neyk88kgx",
        "outputId": "fbd5ef2e-edac-4897-c188-6ed0db105c75"
      },
      "outputs": [
        {
          "output_type": "stream",
          "name": "stdout",
          "text": [
            "Index of 20: (array([1, 3, 6]),)\n",
            "Indexes of even numbers: (array([0, 1, 2, 3, 4, 5, 6]),)\n"
          ]
        }
      ],
      "source": [
        "import numpy as np\n",
        "\n",
        "arr = np.array([10, 20, 30, 20, 40, 50, 20])\n",
        "# Index:          0   1   2   3   4   5   6\n",
        "\n",
        "result = np.where(arr == 20)  # Find all indexes where value is 20\n",
        "even_indices = np.where(arr % 2 == 0)  # Find all indexes where value is even\n",
        "\n",
        "print(\"Index of 20:\", result)\n",
        "print(\"Indexes of even numbers:\", even_indices)\n"
      ]
    },
    {
      "cell_type": "markdown",
      "source": [
        "# Search Sorted Array\n",
        "\n",
        "search sorted array:- which performs a binary search in the array , and returns the index where the specified value would be inserted to maintain the search order."
      ],
      "metadata": {
        "id": "vhQCK0M59JnE"
      }
    },
    {
      "cell_type": "code",
      "source": [
        "import numpy as np\n",
        "\n",
        "arr_sorted = np.array([5, 10, 15, 20, 25])\n",
        "\n",
        "# Find position to insert 18 to keep array sorted\n",
        "pos = np.searchsorted(arr_sorted, 18)\n",
        "print(\"Insert position for 18:\", pos)\n",
        "\n",
        "# Insert multiple values from the right\n",
        "positions = np.searchsorted(arr_sorted, [18, 21, 30], side='right')\n",
        "print(\"Right insert positions for [18, 21, 30]:\", positions)\n"
      ],
      "metadata": {
        "colab": {
          "base_uri": "https://localhost:8080/"
        },
        "id": "RdPDQEfH9L-X",
        "outputId": "2b56893a-9bb6-41bf-db83-0a7a771b209a"
      },
      "execution_count": 2,
      "outputs": [
        {
          "output_type": "stream",
          "name": "stdout",
          "text": [
            "Insert position for 18: 3\n",
            "Right insert positions for [18, 21, 30]: [3 4 5]\n"
          ]
        }
      ]
    },
    {
      "cell_type": "markdown",
      "source": [
        "# Sort Array\n",
        "\n",
        "Sort Array :- Ordered sequence is any sequence that has an order corresponding to elements , like numeric or alphabetical, ascending or descending."
      ],
      "metadata": {
        "id": "wnL1hjyB9Q7i"
      }
    },
    {
      "cell_type": "code",
      "source": [
        "arr1 = np.array([42, 18, 33, 29, 11])\n",
        "arr2 = np.array(['delta', 'alpha', 'charlie', 'bravo'])\n",
        "\n",
        "print(\"Sorted numeric array:\", np.sort(arr1))\n",
        "print(\"Sorted string array:\", np.sort(arr2))\n"
      ],
      "metadata": {
        "colab": {
          "base_uri": "https://localhost:8080/"
        },
        "id": "kl84fPLk9T6Z",
        "outputId": "464be851-2462-4e5c-e231-c56deceba48d"
      },
      "execution_count": 3,
      "outputs": [
        {
          "output_type": "stream",
          "name": "stdout",
          "text": [
            "Sorted numeric array: [11 18 29 33 42]\n",
            "Sorted string array: ['alpha' 'bravo' 'charlie' 'delta']\n"
          ]
        }
      ]
    },
    {
      "cell_type": "markdown",
      "source": [
        "# Filter Array\n",
        "\n",
        "Filter Array:- Getting some elements out of an existing array and creating a new array out of them."
      ],
      "metadata": {
        "id": "HyRkdv1J9YKT"
      }
    },
    {
      "cell_type": "code",
      "source": [
        "arr3 = np.array([100, 150, 200, 250])\n",
        "# Keep elements greater than 150\n",
        "condition = arr3 > 150\n",
        "filtered_arr = arr3[condition]\n",
        "\n",
        "print(\"Filtered array:\", filtered_arr)\n",
        "print(\"Type:\", type(filtered_arr))\n"
      ],
      "metadata": {
        "colab": {
          "base_uri": "https://localhost:8080/"
        },
        "id": "G5ikFzBu9aeL",
        "outputId": "921161a5-6b2e-4e05-935c-4cc63690b52f"
      },
      "execution_count": 4,
      "outputs": [
        {
          "output_type": "stream",
          "name": "stdout",
          "text": [
            "Filtered array: [200 250]\n",
            "Type: <class 'numpy.ndarray'>\n"
          ]
        }
      ]
    }
  ]
}